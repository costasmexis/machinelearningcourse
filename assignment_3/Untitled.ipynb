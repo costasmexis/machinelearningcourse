{
 "cells": [
  {
   "cell_type": "code",
   "execution_count": 1,
   "id": "da678232-2f3d-4b5a-bf24-8729552a490e",
   "metadata": {},
   "outputs": [
    {
     "name": "stderr",
     "output_type": "stream",
     "text": [
      "C:\\Users\\mexis\\anaconda3\\envs\\main\\Lib\\site-packages\\umap\\distances.py:1063: NumbaDeprecationWarning: \u001b[1mThe 'nopython' keyword argument was not supplied to the 'numba.jit' decorator. The implicit default value for this argument is currently False, but it will be changed to True in Numba 0.59.0. See https://numba.readthedocs.io/en/stable/reference/deprecation.html#deprecation-of-object-mode-fall-back-behaviour-when-using-jit for details.\u001b[0m\n",
      "  @numba.jit()\n",
      "C:\\Users\\mexis\\anaconda3\\envs\\main\\Lib\\site-packages\\umap\\distances.py:1071: NumbaDeprecationWarning: \u001b[1mThe 'nopython' keyword argument was not supplied to the 'numba.jit' decorator. The implicit default value for this argument is currently False, but it will be changed to True in Numba 0.59.0. See https://numba.readthedocs.io/en/stable/reference/deprecation.html#deprecation-of-object-mode-fall-back-behaviour-when-using-jit for details.\u001b[0m\n",
      "  @numba.jit()\n",
      "C:\\Users\\mexis\\anaconda3\\envs\\main\\Lib\\site-packages\\umap\\distances.py:1086: NumbaDeprecationWarning: \u001b[1mThe 'nopython' keyword argument was not supplied to the 'numba.jit' decorator. The implicit default value for this argument is currently False, but it will be changed to True in Numba 0.59.0. See https://numba.readthedocs.io/en/stable/reference/deprecation.html#deprecation-of-object-mode-fall-back-behaviour-when-using-jit for details.\u001b[0m\n",
      "  @numba.jit()\n",
      "C:\\Users\\mexis\\anaconda3\\envs\\main\\Lib\\site-packages\\tqdm\\auto.py:21: TqdmWarning: IProgress not found. Please update jupyter and ipywidgets. See https://ipywidgets.readthedocs.io/en/stable/user_install.html\n",
      "  from .autonotebook import tqdm as notebook_tqdm\n",
      "C:\\Users\\mexis\\anaconda3\\envs\\main\\Lib\\site-packages\\umap\\umap_.py:660: NumbaDeprecationWarning: \u001b[1mThe 'nopython' keyword argument was not supplied to the 'numba.jit' decorator. The implicit default value for this argument is currently False, but it will be changed to True in Numba 0.59.0. See https://numba.readthedocs.io/en/stable/reference/deprecation.html#deprecation-of-object-mode-fall-back-behaviour-when-using-jit for details.\u001b[0m\n",
      "  @numba.jit()\n"
     ]
    }
   ],
   "source": [
    "import os\n",
    "import pandas as pd\n",
    "import numpy as np\n",
    "import seaborn as sns\n",
    "\n",
    "from sklearn.preprocessing import StandardScaler\n",
    "from sklearn.decomposition import PCA\n",
    "from sklearn.manifold import TSNE\n",
    "from sklearn.mixture import GaussianMixture\n",
    "from sklearn.model_selection import GridSearchCV\n",
    "\n",
    "from umap import UMAP\n",
    "\n",
    "import matplotlib.pyplot as plt\n",
    "plt.style.use('ggplot')\n",
    "plt.rcParams['figure.figsize'] = (8,4)\n",
    "\n",
    "SEED = 42"
   ]
  },
  {
   "cell_type": "code",
   "execution_count": 2,
   "id": "bc45d5fb-31ab-41c2-8755-c0afdcc9828f",
   "metadata": {},
   "outputs": [],
   "source": [
    "class ClassForAssignment_3:\n",
    "    def __init__(self, file_path):\n",
    "        self.file_path = file_path\n",
    "        self.data = None\n",
    "        self.data_scaled = None\n",
    "        self.data_pca = None\n",
    "        self.data_tsne = None\n",
    "        self.data_umap = None\n",
    "        self.n_components_pca = None\n",
    "        \n",
    "        self.N_CLUSTERS_RANGE = range(1, 20)\n",
    "        self.COVARIANCE_TYPE = ['full', 'tied', 'diag', 'spherical']\n",
    "        \n",
    "        self.optimal_clusters = None\n",
    "        self.optimal_covariance = None\n",
    "        \n",
    "        self._load_data()\n",
    "    \n",
    "    def _load_data(self):\n",
    "        self.data = pd.read_csv(self.file_path, index_col=0)  # Change this line based on your file format\n",
    "        \n",
    "    def normalize_data(self):\n",
    "        scl = StandardScaler()\n",
    "        self.data_scaled = scl.fit_transform(self.data)\n",
    "\n",
    "    def pca_dimensionality_reduction(self):\n",
    "        print('Selecting optimal number of components for PCA...')\n",
    "        pca = PCA(random_state=SEED)\n",
    "        pca.fit(self.data_scaled)\n",
    "        \n",
    "        # Calculate explained variance ratio\n",
    "        explained_variance_ratio = pca.explained_variance_ratio_\n",
    "        # Calculate cumulative explained variance\n",
    "        cum_explained_variance = np.cumsum(explained_variance_ratio)\n",
    "        \n",
    "        # Plot cumulative explained variance\n",
    "        plt.plot(range(1, len(cum_explained_variance) + 1), cum_explained_variance, 'bo-')\n",
    "        plt.xlabel('Number of Components')\n",
    "        plt.ylabel('Cumulative Explained Variance')\n",
    "        plt.title('Cumulative Explained Variance vs. Number of Components')\n",
    "        plt.show()\n",
    "\n",
    "        # Find the optimal number of components\n",
    "        self.n_components_pca = np.argmax(cum_explained_variance >= 0.95) + 1\n",
    "        print(f\"The optimal number of components is {self.n_components_pca}.\")\n",
    "        print('\\nPerforming PCA....')\n",
    "        pca = PCA(n_components=self.n_components_pca, random_state=SEED)\n",
    "        self.data_pca = pca.fit_transform(self.data_scaled)\n",
    "        print(' **** Shape of dataset after performing PCA dimensionality reduction:', self.data_pca.shape)\n",
    "        print()\n",
    "        \n",
    "    def tsne_dimensionality_reduction(self):\n",
    "        print('Performing TSNE for data visualization:')\n",
    "        tsne = TSNE(n_components=2, random_state=42)\n",
    "        self.data_tsne = tsne.fit_transform(self.data_scaled)\n",
    "        print(' **** Shape of dataset after TSNE dimensionality reduction:', self.data_tsne.shape)\n",
    "        print()\n",
    "        \n",
    "    def umap_dimensionality_reduction(self):\n",
    "        print('Performing UMAP for data visualization:')\n",
    "        self.data_umap = UMAP(n_components=self.n_components_pca).fit_transform(self.data_scaled)\n",
    "        print(' **** Shape of dataset after UMAP dimensionality reduction:', self.data_umap.shape)\n",
    "        print()\n",
    "    \n",
    "    # ********* CLUSTERING ****************\n",
    "    def gaussianmixture(self, method):\n",
    "        print(f'Selected method: {method}')\n",
    "        if method=='pca': X = self.data_pca\n",
    "        elif method=='tsne': X = self.data_tsne\n",
    "        elif method=='umap': X = self.data_umap\n",
    "        else:\n",
    "            return 'Wrong type of method...'\n",
    "        \n",
    "        # Initialize variables to store BIC scores, models, and optimal parameters\n",
    "        bic_scores = []\n",
    "        models = []\n",
    " \n",
    "        # Fit Gaussian Mixture models with different numbers of components and covariance matrix types\n",
    "        for n_components in self.N_CLUSTERS_RANGE:\n",
    "            for covariance_type in self.COVARIANCE_TYPE:\n",
    "                try:\n",
    "                    model = GaussianMixture(n_components=n_components,\n",
    "                                        covariance_type=covariance_type, \n",
    "                                        random_state=SEED)\n",
    "                    model.fit(X)\n",
    "\n",
    "                except ValueError:\n",
    "                    model = GaussianMixture(n_components=n_components,\n",
    "                                        covariance_type=covariance_type, \n",
    "                                        reg_covar=0.01,\n",
    "                                        random_state=SEED)\n",
    "                    model.fit(X)\n",
    "    \n",
    "                bic_scores.append(model.bic(X))\n",
    "                models.append(model)\n",
    "\n",
    "                # Update optimal parameters if BIC score is minimum\n",
    "                if bic_scores[-1] == min(bic_scores):\n",
    "                    self.optimal_clusters = n_components\n",
    "                    self.optimal_covariance = covariance_type\n",
    "\n",
    "        # Get the best model corresponding to the optimal parameters\n",
    "        best_model_index = bic_scores.index(min(bic_scores))\n",
    "        best_model = models[best_model_index]\n",
    "\n",
    "        # Print the optimal number of components and covariance matrix type\n",
    "        print(\"Optimal number of components:\", self.optimal_clusters)\n",
    "        print(\"Optimal covariance matrix type:\", self.optimal_covariance)\n",
    "        print()\n",
    "        \n",
    "        # Fit Gaussian Mixture model with the optimal number of components\n",
    "        model = GaussianMixture(n_components=self.optimal_clusters, \n",
    "                                covariance_type=self.optimal_covariance, \n",
    "                                random_state=SEED)\n",
    "        model.fit(X)\n",
    "        y_pred = model.predict(X)  # Predict the cluster labels\n",
    "        \n",
    "#         # Plot the clustering results\n",
    "#         plt.scatter(X[:, 0], X[:, 1], c=y_pred, cmap='viridis')\n",
    "#         plt.scatter(model.means_[:, 0], model.means_[:, 1], marker='x', color='red', s=100, label='Cluster Centers')\n",
    "#         plt.xlabel(' 1')\n",
    "#         plt.ylabel('Feature 2')\n",
    "#         plt.title('Clustering Results')\n",
    "#         plt.legend()\n",
    "#         plt.show()"
   ]
  },
  {
   "cell_type": "code",
   "execution_count": 3,
   "id": "78d33afb-e1c8-43a6-b04d-c4c01161461f",
   "metadata": {},
   "outputs": [],
   "source": [
    "dataset = ClassForAssignment_3(\"Assignment_3_2023_datasets/dataset5.csv\")  # Provide the path to your file here"
   ]
  },
  {
   "cell_type": "markdown",
   "id": "40418b5e-c7a9-4ab4-abb0-c8e35f1cd406",
   "metadata": {},
   "source": [
    "# 1. Dimensionality Reduction"
   ]
  },
  {
   "cell_type": "code",
   "execution_count": 4,
   "id": "682b760c-961d-4992-a0ee-36f83215a52e",
   "metadata": {},
   "outputs": [
    {
     "name": "stdout",
     "output_type": "stream",
     "text": [
      "Selecting optimal number of components for PCA...\n"
     ]
    },
    {
     "data": {
      "image/png": "[encoded data removed]",
      "text/plain": [
       "<Figure size 800x400 with 1 Axes>"
      ]
     },
     "metadata": {},
     "output_type": "display_data"
    },
    {
     "name": "stdout",
     "output_type": "stream",
     "text": [
      "The optimal number of components is 110.\n",
      "\n",
      "Performing PCA....\n",
      " **** Shape of dataset after performing PCA dimensionality reduction: (200, 110)\n",
      "\n",
      "Performing TSNE for data visualization:\n",
      " **** Shape of dataset after TSNE dimensionality reduction: (200, 2)\n",
      "\n",
      "Performing UMAP for data visualization:\n",
      " **** Shape of dataset after UMAP dimensionality reduction: (200, 110)\n",
      "\n"
     ]
    }
   ],
   "source": [
    "dataset.normalize_data()\n",
    "\n",
    "dataset.pca_dimensionality_reduction()\n",
    "\n",
    "dataset.tsne_dimensionality_reduction()\n",
    "\n",
    "dataset.umap_dimensionality_reduction()"
   ]
  },
  {
   "cell_type": "markdown",
   "id": "d04f7a33-9adb-4233-a788-6909d1a20e92",
   "metadata": {},
   "source": [
    "# Clustering"
   ]
  },
  {
   "cell_type": "code",
   "execution_count": 5,
   "id": "870abc31",
   "metadata": {
    "scrolled": false
   },
   "outputs": [
    {
     "name": "stdout",
     "output_type": "stream",
     "text": [
      "Selected method: pca\n",
      "Optimal number of components: 4\n",
      "Optimal covariance matrix type: full\n",
      "Selected method: tsne\n",
      "Optimal number of components: 5\n",
      "Optimal covariance matrix type: spherical\n",
      "Selected method: umap\n",
      "Optimal number of components: 1\n",
      "Optimal covariance matrix type: full\n"
     ]
    }
   ],
   "source": [
    "for method in ['pca','tsne','umap']:\n",
    "    dataset.gaussianmixture(method=method)"
   ]
  }
 ],
 "metadata": {
  "kernelspec": {
   "display_name": "Python 3 (ipykernel)",
   "language": "python",
   "name": "python3"
  },
  "language_info": {
   "codemirror_mode": {
    "name": "ipython",
    "version": 3
   },
   "file_extension": ".py",
   "mimetype": "text/x-python",
   "name": "python",
   "nbconvert_exporter": "python",
   "pygments_lexer": "ipython3",
   "version": "3.11.2"
  }
 },
 "nbformat": 4,
 "nbformat_minor": 5
}
