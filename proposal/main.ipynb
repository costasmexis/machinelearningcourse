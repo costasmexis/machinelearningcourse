{
 "cells": [
  {
   "cell_type": "code",
   "execution_count": 107,
   "id": "8fbaf967",
   "metadata": {},
   "outputs": [],
   "source": [
    "import sys\n",
    "sys.path.append('../scripts')\n",
    "\n",
    "import utils,analysis,test_features\n",
    "import SCCML\n",
    "import pandas as pd\n",
    "import numpy as np\n",
    "import matplotlib.pyplot as plt\n",
    "from matplotlib.pyplot import subplots\n",
    "\n",
    "from sklearn.preprocessing import LabelEncoder\n",
    "from sklearn.metrics import classification_report \n",
    "\n",
    "\n",
    "\n",
    "HIP_CER_df = pd.read_pickle('../data/HIP_CER.pkl')\n",
    "ICC_df = pd.read_pickle('../data/ICC_rms.pkl')\n",
    "SIMS_df = pd.read_pickle('../data/SIMS.pkl')\n",
    "BIG_df = pd.read_pickle('../data/30k_data.pkl')"
   ]
  },
  {
   "cell_type": "code",
   "execution_count": 108,
   "id": "cbe29f62",
   "metadata": {},
   "outputs": [
    {
     "name": "stdout",
     "output_type": "stream",
     "text": [
      "(1235, 511) (309, 511)\n"
     ]
    }
   ],
   "source": [
    "#split the dataset into training and test set\n",
    "from sklearn.model_selection import train_test_split\n",
    "\n",
    "X = ICC_df.drop(['type'], axis=1).copy()\n",
    "y = ICC_df['type'].copy()\n",
    "\n",
    "# Your original class labels\n",
    "class_labels = y\n",
    "# Initialize the LabelEncoder\n",
    "label_encoder = LabelEncoder()\n",
    "# Fit and transform the class labels\n",
    "y = label_encoder.fit_transform(class_labels)\n",
    "\n",
    "X_train, X_test, y_train, y_test = train_test_split(X, y,\n",
    "                                                    test_size=.20,\n",
    "                                                    random_state=19)\n",
    "print(X_train.shape, X_test.shape)"
   ]
  },
  {
   "cell_type": "code",
   "execution_count": 109,
   "id": "7ff0d7e7",
   "metadata": {},
   "outputs": [],
   "source": [
    "from sklearn.linear_model import LogisticRegression\n",
    "from sklearn.tree import DecisionTreeClassifier\n",
    "from xgboost import XGBClassifier\n",
    "\n",
    "model = XGBClassifier(n_estimators=500,subsample=1)\n",
    "\n",
    "# model = LogisticRegression(max_iter=1000)\n",
    "model.fit(X_train, y_train)\n",
    "y_pred = model.predict(X_test)"
   ]
  },
  {
   "cell_type": "code",
   "execution_count": 110,
   "id": "8ca37737",
   "metadata": {},
   "outputs": [
    {
     "name": "stdout",
     "output_type": "stream",
     "text": [
      "0.7637540453074434\n",
      "0.7621731478377473\n"
     ]
    }
   ],
   "source": [
    "from sklearn.metrics import accuracy_score\n",
    "from sklearn.metrics import roc_auc_score\n",
    "\n",
    "print(accuracy_score(y_test, y_pred))\n",
    "print(roc_auc_score(y_test, y_pred))"
   ]
  },
  {
   "cell_type": "markdown",
   "id": "95c46802",
   "metadata": {},
   "source": [
    "## ANN "
   ]
  },
  {
   "cell_type": "code",
   "execution_count": 91,
   "id": "4f1ad595",
   "metadata": {},
   "outputs": [],
   "source": [
    "import torch\n",
    "import torch.nn as nn\n",
    "import torch.optim as optim\n",
    "\n",
    "# Define the neural network model\n",
    "class BinaryClassifier(nn.Module):\n",
    "    def __init__(self, input_size, hidden_size):\n",
    "        super(BinaryClassifier, self).__init__()\n",
    "        self.fc1 = nn.Linear(input_size, hidden_size)\n",
    "        self.relu = nn.ReLU()\n",
    "        self.fc2 = nn.Linear(hidden_size, 1)\n",
    "        self.sigmoid = nn.Sigmoid()\n",
    "\n",
    "    def forward(self, x):\n",
    "        out = self.fc1(x)\n",
    "        out = self.relu(out)\n",
    "        out = self.fc1(x)\n",
    "        out = self.relu(out)\n",
    "        out = self.fc2(out)\n",
    "        out = self.sigmoid(out)\n",
    "        return out"
   ]
  },
  {
   "cell_type": "code",
   "execution_count": 95,
   "id": "2f4de12f",
   "metadata": {},
   "outputs": [],
   "source": [
    "# # Convert the training and testing sets to tensors\n",
    "# X_train = torch.tensor(X_train.values, dtype=torch.float32)\n",
    "# y_train = torch.tensor(y_train, dtype=torch.float32)\n",
    "# X_test = torch.tensor(X_test.values, dtype=torch.float32)\n",
    "# y_test = torch.tensor(y_test, dtype=torch.float32)\n",
    "\n",
    "# # Reshape the labels\n",
    "# y_train = y_train.reshape(-1, 1)\n",
    "# y_test = y_test.reshape(-1, 1)"
   ]
  },
  {
   "cell_type": "code",
   "execution_count": 105,
   "id": "bb4e03b5",
   "metadata": {},
   "outputs": [
    {
     "name": "stdout",
     "output_type": "stream",
     "text": [
      "Epoch 100/1500, Loss: 0.19870707392692566\n",
      "Epoch 200/1500, Loss: 0.07125356793403625\n",
      "Epoch 300/1500, Loss: 0.029238438233733177\n",
      "Epoch 400/1500, Loss: 0.013319162651896477\n",
      "Epoch 500/1500, Loss: 0.007204569410532713\n",
      "Epoch 600/1500, Loss: 0.004399036522954702\n",
      "Epoch 700/1500, Loss: 0.002958123106509447\n",
      "Epoch 800/1500, Loss: 0.002114534378051758\n",
      "Epoch 900/1500, Loss: 0.0015826198505237699\n",
      "Epoch 1000/1500, Loss: 0.001230415073223412\n",
      "Epoch 1100/1500, Loss: 0.0009830694179981947\n",
      "Epoch 1200/1500, Loss: 0.0008031452889554203\n",
      "Epoch 1300/1500, Loss: 0.0006661175866611302\n",
      "Epoch 1400/1500, Loss: 0.0005610179505310953\n",
      "Epoch 1500/1500, Loss: 0.00047854683361947536\n"
     ]
    }
   ],
   "source": [
    "# Create an instance of the model\n",
    "input_size = X_train.shape[1]  # Number of features in the input data\n",
    "hidden_size = 50  # Number of units in the hidden layer\n",
    "model = BinaryClassifier(input_size, hidden_size)\n",
    "\n",
    "# Define the loss function and optimizer\n",
    "criterion = nn.BCELoss()\n",
    "optimizer = optim.Adam(model.parameters(), lr=0.01)\n",
    "\n",
    "# Training loop\n",
    "num_epochs = 1500\n",
    "for epoch in range(num_epochs):\n",
    "    # Forward pass\n",
    "    outputs = model(X_train)\n",
    "    loss = criterion(outputs, y_train)\n",
    "\n",
    "    # Backward and optimize\n",
    "    optimizer.zero_grad()\n",
    "    loss.backward()\n",
    "    optimizer.step()\n",
    "\n",
    "    if (epoch + 1) % 100 == 0:\n",
    "        print(f'Epoch {epoch+1}/{num_epochs}, Loss: {loss.item()}')\n",
    "\n",
    "# Test the model\n",
    "predictions = model(X_test)\n",
    "y_pred = predictions.round().detach().numpy()"
   ]
  },
  {
   "cell_type": "code",
   "execution_count": 106,
   "id": "e679d598",
   "metadata": {},
   "outputs": [
    {
     "name": "stdout",
     "output_type": "stream",
     "text": [
      "0.7443365695792881\n"
     ]
    }
   ],
   "source": [
    "print(accuracy_score(y_test, y_pred))"
   ]
  },
  {
   "cell_type": "code",
   "execution_count": null,
   "id": "183e6d5a",
   "metadata": {},
   "outputs": [],
   "source": []
  }
 ],
 "metadata": {
  "kernelspec": {
   "display_name": "Python 3 (ipykernel)",
   "language": "python",
   "name": "python3"
  },
  "language_info": {
   "codemirror_mode": {
    "name": "ipython",
    "version": 3
   },
   "file_extension": ".py",
   "mimetype": "text/x-python",
   "name": "python",
   "nbconvert_exporter": "python",
   "pygments_lexer": "ipython3",
   "version": "3.11.2"
  }
 },
 "nbformat": 4,
 "nbformat_minor": 5
}
