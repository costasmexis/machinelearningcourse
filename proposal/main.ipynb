{
 "cells": [
  {
   "cell_type": "code",
   "execution_count": 1,
   "id": "8fbaf967",
   "metadata": {},
   "outputs": [],
   "source": [
    "import pandas as pd\n",
    "import numpy as np\n",
    "import matplotlib.pyplot as plt\n",
    "\n",
    "from sklearn.preprocessing import LabelEncoder\n",
    "from sklearn.metrics import classification_report \n",
    "from sklearn.model_selection import train_test_split\n",
    "\n",
    "from sklearn.linear_model import LogisticRegression\n",
    "from sklearn.tree import DecisionTreeClassifier\n",
    "from xgboost import XGBClassifier\n",
    "\n",
    "# HIP_CER_df = pd.read_pickle('data/HIP_CER.pkl')\n",
    "# ICC_df = pd.read_pickle('data/ICC_rms.pkl')\n",
    "# SIMS_df = pd.read_pickle('data/SIMS.pkl')\n",
    "# BIG_df = pd.read_pickle('data/30k_data.pkl')"
   ]
  },
  {
   "cell_type": "code",
   "execution_count": 7,
   "id": "d09b75bb",
   "metadata": {},
   "outputs": [
    {
     "name": "stdout",
     "output_type": "stream",
     "text": [
      "(1235, 511) (309, 511)\n"
     ]
    }
   ],
   "source": [
    "class Object:\n",
    "    def __init__(self, file_path):\n",
    "        self.data = pd.read_pickle(file_path)\n",
    "        if 'type' in self.data.columns:\n",
    "            self.X = self.data.drop('type', axis=1).copy()\n",
    "            self.y = self.data['type'].copy()\n",
    "            self.labels = None\n",
    "            \n",
    "            self._create_class_labels()\n",
    "            \n",
    "            self.X_train = None\n",
    "            self.y_train = None\n",
    "            self.X_test = None\n",
    "            self.y_test = None\n",
    "        \n",
    "        else:\n",
    "            self.X = self.data.copy()\n",
    "            self.y = None\n",
    "\n",
    "    def _create_class_labels(self):\n",
    "        self.labels = LabelEncoder().fit_transform(self.y)\n",
    "\n",
    "    def split_dataset(self, test_size=0.20):\n",
    "        self.X_train, self.X_test, self.y_train, self.y_test = train_test_split(self.X, self.labels, test_size=test_size, random_state=42)\n",
    "        print(self.X_train.shape, self.X_test.shape)\n",
    "        \n",
    "    def __str__(self) -> str:\n",
    "        return f'Shape of dataset: {self.data.shape}'\n",
    "\n",
    "MyData = Object('data/ICC_rms.pkl')     \n",
    "MyData.split_dataset()"
   ]
  },
  {
   "cell_type": "code",
   "execution_count": 8,
   "id": "7ff0d7e7",
   "metadata": {},
   "outputs": [],
   "source": [
    "model = XGBClassifier(base_score=0.5, booster='gbtree', colsample_bylevel=1,\n",
    "              colsample_bynode=1, colsample_bytree=0.6, gamma=1,\n",
    "              learning_rate=0.1, max_delta_step=0, max_depth=7,\n",
    "              min_child_weight=1, missing=np.nan, n_estimators=600, n_jobs=1,\n",
    "              nthread=None, objective='binary:logistic', random_state=0,\n",
    "              reg_alpha=0.01, reg_lambda=1, scale_pos_weight=1, seed=None,\n",
    "              silent=None, subsample=1, verbosity=1)\n",
    "\n",
    "model.fit(MyData.X_train, MyData.y_train)\n",
    "y_pred = model.predict(MyData.X_test)"
   ]
  },
  {
   "cell_type": "code",
   "execution_count": 11,
   "id": "8ca37737",
   "metadata": {},
   "outputs": [
    {
     "name": "stdout",
     "output_type": "stream",
     "text": [
      "0.7411003236245954\n",
      "0.7307442102524069\n"
     ]
    }
   ],
   "source": [
    "from sklearn.metrics import accuracy_score\n",
    "from sklearn.metrics import roc_auc_score\n",
    "from sklearn.metrics import roc_curve\n",
    "\n",
    "print(accuracy_score(MyData.y_test, y_pred))\n",
    "print(roc_auc_score(MyData.y_test, y_pred))"
   ]
  },
  {
   "attachments": {},
   "cell_type": "markdown",
   "id": "95c46802",
   "metadata": {},
   "source": [
    "## ANN "
   ]
  },
  {
   "cell_type": "code",
   "execution_count": null,
   "id": "4f1ad595",
   "metadata": {},
   "outputs": [],
   "source": [
    "import torch\n",
    "import torch.nn as nn\n",
    "import torch.optim as optim\n",
    "\n",
    "# Define the neural network model\n",
    "class BinaryClassifier(nn.Module):\n",
    "    def __init__(self, input_size, hidden_size):\n",
    "        super(BinaryClassifier, self).__init__()\n",
    "        self.fc1 = nn.Linear(input_size, hidden_size)\n",
    "        self.relu = nn.ReLU()\n",
    "        self.fc2 = nn.Linear(hidden_size, 1)\n",
    "        self.sigmoid = nn.Sigmoid()\n",
    "\n",
    "    def forward(self, x):\n",
    "        out = self.fc1(x)\n",
    "        out = self.relu(out)\n",
    "        out = self.fc1(x)\n",
    "        out = self.relu(out)\n",
    "        out = self.fc2(out)\n",
    "        out = self.sigmoid(out)\n",
    "        return out"
   ]
  },
  {
   "cell_type": "code",
   "execution_count": null,
   "id": "2f4de12f",
   "metadata": {},
   "outputs": [],
   "source": [
    "# # Convert the training and testing sets to tensors\n",
    "# X_train = torch.tensor(X_train.values, dtype=torch.float32)\n",
    "# y_train = torch.tensor(y_train, dtype=torch.float32)\n",
    "# X_test = torch.tensor(X_test.values, dtype=torch.float32)\n",
    "# y_test = torch.tensor(y_test, dtype=torch.float32)\n",
    "\n",
    "# # Reshape the labels\n",
    "# y_train = y_train.reshape(-1, 1)\n",
    "# y_test = y_test.reshape(-1, 1)"
   ]
  },
  {
   "cell_type": "code",
   "execution_count": null,
   "id": "bb4e03b5",
   "metadata": {},
   "outputs": [],
   "source": [
    "# Create an instance of the model\n",
    "input_size = X_train.shape[1]  # Number of features in the input data\n",
    "hidden_size = 50  # Number of units in the hidden layer\n",
    "model = BinaryClassifier(input_size, hidden_size)\n",
    "\n",
    "# Define the loss function and optimizer\n",
    "criterion = nn.BCELoss()\n",
    "optimizer = optim.Adam(model.parameters(), lr=0.01)\n",
    "\n",
    "# Training loop\n",
    "num_epochs = 1500\n",
    "for epoch in range(num_epochs):\n",
    "    # Forward pass\n",
    "    outputs = model(X_train)\n",
    "    loss = criterion(outputs, y_train)\n",
    "\n",
    "    # Backward and optimize\n",
    "    optimizer.zero_grad()\n",
    "    loss.backward()\n",
    "    optimizer.step()\n",
    "\n",
    "    if (epoch + 1) % 100 == 0:\n",
    "        print(f'Epoch {epoch+1}/{num_epochs}, Loss: {loss.item()}')\n",
    "\n",
    "# Test the model\n",
    "predictions = model(X_test)\n",
    "y_pred = predictions.round().detach().numpy()"
   ]
  },
  {
   "cell_type": "code",
   "execution_count": null,
   "id": "e679d598",
   "metadata": {},
   "outputs": [],
   "source": [
    "print(accuracy_score(y_test, y_pred))"
   ]
  },
  {
   "cell_type": "code",
   "execution_count": null,
   "id": "183e6d5a",
   "metadata": {},
   "outputs": [],
   "source": []
  }
 ],
 "metadata": {
  "kernelspec": {
   "display_name": "Python 3 (ipykernel)",
   "language": "python",
   "name": "python3"
  },
  "language_info": {
   "codemirror_mode": {
    "name": "ipython",
    "version": 3
   },
   "file_extension": ".py",
   "mimetype": "text/x-python",
   "name": "python",
   "nbconvert_exporter": "python",
   "pygments_lexer": "ipython3",
   "version": "3.11.2"
  }
 },
 "nbformat": 4,
 "nbformat_minor": 5
}
