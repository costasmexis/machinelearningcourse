{
 "cells": [
  {
   "cell_type": "code",
   "execution_count": 68,
   "id": "8fbaf967",
   "metadata": {},
   "outputs": [],
   "source": [
    "import pandas as pd\n",
    "import numpy as np\n",
    "import matplotlib.pyplot as plt\n",
    "\n",
    "from sklearn.preprocessing import LabelEncoder\n",
    "from sklearn.metrics import classification_report \n",
    "from sklearn.model_selection import train_test_split\n",
    "from sklearn.model_selection import RandomizedSearchCV, train_test_split\n",
    "from sklearn.preprocessing import StandardScaler\n",
    "from sklearn.metrics import accuracy_score\n",
    "\n",
    "from sklearn.linear_model import LogisticRegression\n",
    "from sklearn.tree import DecisionTreeClassifier\n",
    "from xgboost import XGBClassifier\n",
    "\n",
    "# HIP_CER_df = pd.read_pickle('data/HIP_CER.pkl')\n",
    "# ICC_df = pd.read_pickle('data/ICC_rms.pkl')\n",
    "# SIMS_df = pd.read_pickle('data/SIMS.pkl')\n",
    "# BIG_df = pd.read_pickle('data/30k_data.pkl')"
   ]
  },
  {
   "cell_type": "code",
   "execution_count": 84,
   "id": "d09b75bb",
   "metadata": {},
   "outputs": [
    {
     "name": "stdout",
     "output_type": "stream",
     "text": [
      "(1235, 511) (309, 511)\n"
     ]
    }
   ],
   "source": [
    "class Object:\n",
    "    def __init__(self, file_path, normalize=False):\n",
    "        self.data = pd.read_pickle(file_path)\n",
    "        \n",
    "        if normalize:\n",
    "            self._normalize_data()\n",
    "\n",
    "        if 'type' in self.data.columns:\n",
    "            self.X = self.data.drop('type', axis=1).copy()\n",
    "            self.y = self.data['type'].copy()\n",
    "            self.labels = None\n",
    "            \n",
    "            self._create_class_labels()\n",
    "            \n",
    "            self.X_train = None\n",
    "            self.y_train = None\n",
    "            self.X_test = None\n",
    "            self.y_test = None\n",
    "        \n",
    "        else:\n",
    "            self.X = self.data.copy()\n",
    "            self.y = None\n",
    "        \n",
    "        self.model = None\n",
    "        self.y_pred = None\n",
    "\n",
    "    def _normalize_data(self):\n",
    "        numerical_columns = self.data.select_dtypes(include=['float64', 'int64']).columns\n",
    "        print(f'Normalizing {len(numerical_columns)} columns...')\n",
    "        scl= StandardScaler()\n",
    "        self.data[numerical_columns] = scl.fit_transform(self.data[numerical_columns])\n",
    "\n",
    "    def _create_class_labels(self):\n",
    "        self.labels = LabelEncoder().fit_transform(self.y)\n",
    "\n",
    "    def split_dataset(self, test_size=0.20):\n",
    "        self.X_train, self.X_test, self.y_train, self.y_test = train_test_split(self.X, self.labels, stratify=self.labels, test_size=test_size, random_state=42)\n",
    "        print(self.X_train.shape, self.X_test.shape)\n",
    "\n",
    "    def tune_xgboost(self):\n",
    "        # Define the parameter grid for RandomizedSearchCV\n",
    "        param_grid = {\n",
    "            'n_estimators': [100, 300, 600, 800],\n",
    "            'learning_rate': [0.01, 0.1, 0.2],\n",
    "            'max_depth': [3, 4, 5, 8, 12],\n",
    "            'subsample': np.arange(0.5, 1.0, 0.1),\n",
    "            'colsample_bytree': np.arange(0.5, 1.0, 0.1),\n",
    "            'gamma': [0.01, 0.1, 0, 1, 2]\n",
    "        }\n",
    "\n",
    "        # Create a RandomizedSearchCV object\n",
    "        random_search = RandomizedSearchCV(\n",
    "            estimator=XGBClassifier(),\n",
    "            param_distributions=param_grid,\n",
    "            n_iter=10,  # Number of parameter settings that are sampled\n",
    "            scoring='accuracy',\n",
    "            n_jobs=-1,  # Use all available cores\n",
    "            cv=3,  # Number of cross-validation \n",
    "            verbose=999,\n",
    "            random_state=42\n",
    "        )\n",
    "\n",
    "        # Fit the RandomizedSearchCV object to the training data\n",
    "        random_search.fit(self.X_train, self.y_train)\n",
    "        # Get the best parameter combination found by RandomizedSearchCV\n",
    "        best_params = random_search.best_params_\n",
    "        # Create a new XGBoost classifier with the best parameters\n",
    "        self.model = XGBClassifier(**best_params)\n",
    "        # Train the classifier on the training data\n",
    "        self.model.fit(self.X_train, self.y_train)\n",
    "        # Make predictions on the test data\n",
    "        self.y_pred = self.model.predict(self.X_test)\n",
    "        # Evaluate the accuracy of the classifier\n",
    "        accuracy = accuracy_score(self.y_test, self.y_pred)\n",
    "        print(\"Accuracy:\", accuracy)\n",
    "\n",
    "        \n",
    "    def __str__(self) -> str:\n",
    "        return f'Shape of dataset: {self.data.shape}'\n",
    "\n",
    "MyData = Object('data/ICC_rms.pkl')     \n",
    "MyData.split_dataset(test_size=.2)"
   ]
  },
  {
   "attachments": {},
   "cell_type": "markdown",
   "id": "95c46802",
   "metadata": {},
   "source": [
    "## ANN "
   ]
  },
  {
   "cell_type": "code",
   "execution_count": 85,
   "id": "4f1ad595",
   "metadata": {},
   "outputs": [],
   "source": [
    "import torch\n",
    "import torch.nn as nn\n",
    "import torch.optim as optim\n",
    "\n",
    "# Define the neural network model\n",
    "class BinaryClassifier(nn.Module):\n",
    "    def __init__(self, input_size, hidden_size):\n",
    "        super(BinaryClassifier, self).__init__()\n",
    "        self.fc1 = nn.Linear(input_size, hidden_size)\n",
    "        self.relu = nn.ReLU()\n",
    "        self.linear = nn.Linear(hidden_size, 1)\n",
    "        self.sigmoid = nn.Sigmoid()\n",
    "\n",
    "    def forward(self, x):\n",
    "        out = self.fc1(x)\n",
    "        out = self.relu(out)\n",
    "        out = self.linear(out)\n",
    "        out = self.sigmoid(out)\n",
    "        return out"
   ]
  },
  {
   "cell_type": "code",
   "execution_count": 86,
   "id": "2f4de12f",
   "metadata": {},
   "outputs": [],
   "source": [
    "# Convert the training and testing sets to tensors\n",
    "X_train = torch.tensor(MyData.X_train.values, dtype=torch.float32)\n",
    "y_train = torch.tensor(MyData.y_train, dtype=torch.float32)\n",
    "X_test = torch.tensor(MyData.X_test.values, dtype=torch.float32)\n",
    "y_test = torch.tensor(MyData.y_test, dtype=torch.float32)\n",
    "\n",
    "# Reshape the labels\n",
    "y_train = y_train.reshape(-1, 1)\n",
    "y_test = y_test.reshape(-1, 1)"
   ]
  },
  {
   "cell_type": "code",
   "execution_count": 91,
   "id": "bb4e03b5",
   "metadata": {},
   "outputs": [
    {
     "name": "stdout",
     "output_type": "stream",
     "text": [
      "Epoch 100/3000, Loss: 0.11698872596025467\n",
      "Epoch 200/3000, Loss: 0.020172789692878723\n",
      "Epoch 300/3000, Loss: 0.006545350421220064\n",
      "Epoch 400/3000, Loss: 0.0031328287441283464\n",
      "Epoch 500/3000, Loss: 0.0018331216415390372\n",
      "Epoch 600/3000, Loss: 0.0012096018763259053\n",
      "Epoch 700/3000, Loss: 0.0008581866277381778\n",
      "Epoch 800/3000, Loss: 0.0006412052898667753\n",
      "Epoch 900/3000, Loss: 0.0004973167669959366\n",
      "Epoch 1000/3000, Loss: 0.00039650476537644863\n",
      "Epoch 1100/3000, Loss: 0.00032333636772818863\n",
      "Epoch 1200/3000, Loss: 0.00026832229923456907\n",
      "Epoch 1300/3000, Loss: 0.0002258243621326983\n",
      "Epoch 1400/3000, Loss: 0.0001924664684338495\n",
      "Epoch 1500/3000, Loss: 0.00016573506582062691\n",
      "Epoch 1600/3000, Loss: 0.00014400333748199046\n",
      "Epoch 1700/3000, Loss: 0.00012603589857462794\n",
      "Epoch 1800/3000, Loss: 0.0001110424636863172\n",
      "Epoch 1900/3000, Loss: 9.835592936724424e-05\n",
      "Epoch 2000/3000, Loss: 8.762104698689654e-05\n",
      "Epoch 2100/3000, Loss: 7.841119804652408e-05\n",
      "Epoch 2200/3000, Loss: 7.047499093459919e-05\n",
      "Epoch 2300/3000, Loss: 6.358870450640097e-05\n",
      "Epoch 2400/3000, Loss: 5.753197910962626e-05\n",
      "Epoch 2500/3000, Loss: 5.222881736699492e-05\n",
      "Epoch 2600/3000, Loss: 4.7548975999234244e-05\n",
      "Epoch 2700/3000, Loss: 4.339559382060543e-05\n",
      "Epoch 2800/3000, Loss: 3.9698046748526394e-05\n",
      "Epoch 2900/3000, Loss: 3.6388486478244886e-05\n",
      "Epoch 3000/3000, Loss: 3.340056719025597e-05\n"
     ]
    }
   ],
   "source": [
    "# Create an instance of the model\n",
    "input_size = X_train.shape[1]  # Number of features in the input data\n",
    "hidden_size = 500  # Number of units in the hidden layer\n",
    "model = BinaryClassifier(input_size, hidden_size)\n",
    "\n",
    "# Define the loss function and optimizer\n",
    "criterion = nn.BCELoss()\n",
    "optimizer = optim.Adam(model.parameters(), lr=0.01)\n",
    "\n",
    "# Training loop\n",
    "num_epochs = 3000\n",
    "for epoch in range(num_epochs):\n",
    "    # Forward pass\n",
    "    outputs = model(X_train)\n",
    "    loss = criterion(outputs, y_train)\n",
    "\n",
    "    # Backward and optimize\n",
    "    optimizer.zero_grad()\n",
    "    loss.backward()\n",
    "    optimizer.step()\n",
    "\n",
    "    if (epoch + 1) % 100 == 0:\n",
    "        print(f'Epoch {epoch+1}/{num_epochs}, Loss: {loss.item()}')\n",
    "\n",
    "# Test the model\n",
    "predictions = model(X_test)\n",
    "y_pred = predictions.round().detach().numpy()"
   ]
  },
  {
   "cell_type": "code",
   "execution_count": 92,
   "id": "e679d598",
   "metadata": {},
   "outputs": [
    {
     "name": "stdout",
     "output_type": "stream",
     "text": [
      "0.7184466019417476\n"
     ]
    }
   ],
   "source": [
    "print(accuracy_score(y_test, y_pred))"
   ]
  },
  {
   "cell_type": "code",
   "execution_count": null,
   "id": "183e6d5a",
   "metadata": {},
   "outputs": [],
   "source": []
  }
 ],
 "metadata": {
  "kernelspec": {
   "display_name": "Python 3 (ipykernel)",
   "language": "python",
   "name": "python3"
  },
  "language_info": {
   "codemirror_mode": {
    "name": "ipython",
    "version": 3
   },
   "file_extension": ".py",
   "mimetype": "text/x-python",
   "name": "python",
   "nbconvert_exporter": "python",
   "pygments_lexer": "ipython3",
   "version": "3.11.2"
  }
 },
 "nbformat": 4,
 "nbformat_minor": 5
}
