{
 "cells": [
  {
   "cell_type": "markdown",
   "id": "9f5ffee4-525b-48ce-9bcf-77cdac5df020",
   "metadata": {},
   "source": [
    "# Import Basic Libraries"
   ]
  },
  {
   "cell_type": "code",
   "execution_count": 1,
   "id": "1d4ec258-3286-4f20-9aa5-74ab334a292d",
   "metadata": {},
   "outputs": [],
   "source": [
    "import pandas as pd\n",
    "import numpy as np\n",
    "\n",
    "# Import libraries for ml methods\n",
    "from sklearn.linear_model import LogisticRegression\n",
    "from sklearn.naive_bayes import GaussianNB\n",
    "from sklearn.neighbors import KNeighborsClassifier\n",
    "from sklearn.discriminant_analysis import LinearDiscriminantAnalysis\n",
    "from sklearn.svm import SVC\n",
    "from sklearn.model_selection import GridSearchCV, cross_val_score\n",
    "from sklearn.metrics import make_scorer, matthews_corrcoef, balanced_accuracy_score, \\\n",
    "    f1_score, fbeta_score, recall_score, precision_score, average_precision_score, accuracy_score\n",
    "\n",
    "# import optuna for hyperparameter tuning\n",
    "import optuna\n",
    "from optuna.samplers import TPESampler\n",
    "from sklearn.neighbors import KNeighborsClassifier\n",
    "from sklearn.model_selection import StratifiedKFold, cross_val_score"
   ]
  },
  {
   "cell_type": "markdown",
   "id": "fe25fe2f-f299-415c-9a9c-8e39d5b64f16",
   "metadata": {},
   "source": [
    "# Data loading"
   ]
  },
  {
   "cell_type": "code",
   "execution_count": 2,
   "id": "0eb0e959-85df-414f-87f9-335ad6755996",
   "metadata": {},
   "outputs": [
    {
     "data": {
      "text/html": [
       "<div>\n",
       "<style scoped>\n",
       "    .dataframe tbody tr th:only-of-type {\n",
       "        vertical-align: middle;\n",
       "    }\n",
       "\n",
       "    .dataframe tbody tr th {\n",
       "        vertical-align: top;\n",
       "    }\n",
       "\n",
       "    .dataframe thead th {\n",
       "        text-align: right;\n",
       "    }\n",
       "</style>\n",
       "<table border=\"1\" class=\"dataframe\">\n",
       "  <thead>\n",
       "    <tr style=\"text-align: right;\">\n",
       "      <th></th>\n",
       "      <th>Age</th>\n",
       "      <th>Sex</th>\n",
       "      <th>ALB</th>\n",
       "      <th>ALP</th>\n",
       "      <th>ALT</th>\n",
       "      <th>AST</th>\n",
       "      <th>BIL</th>\n",
       "      <th>CHE</th>\n",
       "      <th>CHOL</th>\n",
       "      <th>CREA</th>\n",
       "      <th>GGT</th>\n",
       "      <th>PROT</th>\n",
       "      <th>label</th>\n",
       "    </tr>\n",
       "  </thead>\n",
       "  <tbody>\n",
       "    <tr>\n",
       "      <th>0</th>\n",
       "      <td>32</td>\n",
       "      <td>0</td>\n",
       "      <td>43.2</td>\n",
       "      <td>52.0</td>\n",
       "      <td>30.6</td>\n",
       "      <td>22.6</td>\n",
       "      <td>18.9</td>\n",
       "      <td>7.33</td>\n",
       "      <td>4.74</td>\n",
       "      <td>80.0</td>\n",
       "      <td>33.8</td>\n",
       "      <td>75.7</td>\n",
       "      <td>0</td>\n",
       "    </tr>\n",
       "    <tr>\n",
       "      <th>1</th>\n",
       "      <td>45</td>\n",
       "      <td>0</td>\n",
       "      <td>41.7</td>\n",
       "      <td>73.2</td>\n",
       "      <td>43.6</td>\n",
       "      <td>29.4</td>\n",
       "      <td>6.4</td>\n",
       "      <td>8.89</td>\n",
       "      <td>5.31</td>\n",
       "      <td>71.0</td>\n",
       "      <td>67.4</td>\n",
       "      <td>70.3</td>\n",
       "      <td>0</td>\n",
       "    </tr>\n",
       "    <tr>\n",
       "      <th>2</th>\n",
       "      <td>55</td>\n",
       "      <td>0</td>\n",
       "      <td>41.5</td>\n",
       "      <td>59.5</td>\n",
       "      <td>15.4</td>\n",
       "      <td>16.2</td>\n",
       "      <td>6.8</td>\n",
       "      <td>6.35</td>\n",
       "      <td>5.22</td>\n",
       "      <td>80.0</td>\n",
       "      <td>12.4</td>\n",
       "      <td>69.9</td>\n",
       "      <td>0</td>\n",
       "    </tr>\n",
       "    <tr>\n",
       "      <th>3</th>\n",
       "      <td>53</td>\n",
       "      <td>0</td>\n",
       "      <td>37.8</td>\n",
       "      <td>98.1</td>\n",
       "      <td>30.5</td>\n",
       "      <td>21.1</td>\n",
       "      <td>4.0</td>\n",
       "      <td>5.02</td>\n",
       "      <td>4.42</td>\n",
       "      <td>94.0</td>\n",
       "      <td>23.2</td>\n",
       "      <td>65.2</td>\n",
       "      <td>0</td>\n",
       "    </tr>\n",
       "    <tr>\n",
       "      <th>4</th>\n",
       "      <td>56</td>\n",
       "      <td>1</td>\n",
       "      <td>39.7</td>\n",
       "      <td>66.0</td>\n",
       "      <td>14.2</td>\n",
       "      <td>20.8</td>\n",
       "      <td>3.5</td>\n",
       "      <td>7.48</td>\n",
       "      <td>5.88</td>\n",
       "      <td>66.0</td>\n",
       "      <td>7.2</td>\n",
       "      <td>67.2</td>\n",
       "      <td>0</td>\n",
       "    </tr>\n",
       "    <tr>\n",
       "      <th>...</th>\n",
       "      <td>...</td>\n",
       "      <td>...</td>\n",
       "      <td>...</td>\n",
       "      <td>...</td>\n",
       "      <td>...</td>\n",
       "      <td>...</td>\n",
       "      <td>...</td>\n",
       "      <td>...</td>\n",
       "      <td>...</td>\n",
       "      <td>...</td>\n",
       "      <td>...</td>\n",
       "      <td>...</td>\n",
       "      <td>...</td>\n",
       "    </tr>\n",
       "    <tr>\n",
       "      <th>199</th>\n",
       "      <td>62</td>\n",
       "      <td>1</td>\n",
       "      <td>32.0</td>\n",
       "      <td>416.6</td>\n",
       "      <td>5.9</td>\n",
       "      <td>110.3</td>\n",
       "      <td>50.0</td>\n",
       "      <td>5.57</td>\n",
       "      <td>6.30</td>\n",
       "      <td>55.7</td>\n",
       "      <td>650.9</td>\n",
       "      <td>68.5</td>\n",
       "      <td>1</td>\n",
       "    </tr>\n",
       "    <tr>\n",
       "      <th>200</th>\n",
       "      <td>64</td>\n",
       "      <td>1</td>\n",
       "      <td>24.0</td>\n",
       "      <td>102.8</td>\n",
       "      <td>2.9</td>\n",
       "      <td>44.4</td>\n",
       "      <td>20.0</td>\n",
       "      <td>1.54</td>\n",
       "      <td>3.02</td>\n",
       "      <td>63.0</td>\n",
       "      <td>35.9</td>\n",
       "      <td>71.3</td>\n",
       "      <td>1</td>\n",
       "    </tr>\n",
       "    <tr>\n",
       "      <th>201</th>\n",
       "      <td>64</td>\n",
       "      <td>1</td>\n",
       "      <td>29.0</td>\n",
       "      <td>87.3</td>\n",
       "      <td>3.5</td>\n",
       "      <td>99.0</td>\n",
       "      <td>48.0</td>\n",
       "      <td>1.66</td>\n",
       "      <td>3.63</td>\n",
       "      <td>66.7</td>\n",
       "      <td>64.2</td>\n",
       "      <td>82.0</td>\n",
       "      <td>1</td>\n",
       "    </tr>\n",
       "    <tr>\n",
       "      <th>202</th>\n",
       "      <td>46</td>\n",
       "      <td>1</td>\n",
       "      <td>33.0</td>\n",
       "      <td>62.7</td>\n",
       "      <td>39.0</td>\n",
       "      <td>62.0</td>\n",
       "      <td>20.0</td>\n",
       "      <td>3.56</td>\n",
       "      <td>4.20</td>\n",
       "      <td>52.0</td>\n",
       "      <td>50.0</td>\n",
       "      <td>71.0</td>\n",
       "      <td>1</td>\n",
       "    </tr>\n",
       "    <tr>\n",
       "      <th>203</th>\n",
       "      <td>59</td>\n",
       "      <td>1</td>\n",
       "      <td>36.0</td>\n",
       "      <td>62.7</td>\n",
       "      <td>100.0</td>\n",
       "      <td>80.0</td>\n",
       "      <td>12.0</td>\n",
       "      <td>9.07</td>\n",
       "      <td>5.30</td>\n",
       "      <td>67.0</td>\n",
       "      <td>34.0</td>\n",
       "      <td>68.0</td>\n",
       "      <td>1</td>\n",
       "    </tr>\n",
       "  </tbody>\n",
       "</table>\n",
       "<p>204 rows × 13 columns</p>\n",
       "</div>"
      ],
      "text/plain": [
       "     Age  Sex   ALB    ALP    ALT    AST   BIL   CHE  CHOL  CREA    GGT  PROT  \\\n",
       "0     32    0  43.2   52.0   30.6   22.6  18.9  7.33  4.74  80.0   33.8  75.7   \n",
       "1     45    0  41.7   73.2   43.6   29.4   6.4  8.89  5.31  71.0   67.4  70.3   \n",
       "2     55    0  41.5   59.5   15.4   16.2   6.8  6.35  5.22  80.0   12.4  69.9   \n",
       "3     53    0  37.8   98.1   30.5   21.1   4.0  5.02  4.42  94.0   23.2  65.2   \n",
       "4     56    1  39.7   66.0   14.2   20.8   3.5  7.48  5.88  66.0    7.2  67.2   \n",
       "..   ...  ...   ...    ...    ...    ...   ...   ...   ...   ...    ...   ...   \n",
       "199   62    1  32.0  416.6    5.9  110.3  50.0  5.57  6.30  55.7  650.9  68.5   \n",
       "200   64    1  24.0  102.8    2.9   44.4  20.0  1.54  3.02  63.0   35.9  71.3   \n",
       "201   64    1  29.0   87.3    3.5   99.0  48.0  1.66  3.63  66.7   64.2  82.0   \n",
       "202   46    1  33.0   62.7   39.0   62.0  20.0  3.56  4.20  52.0   50.0  71.0   \n",
       "203   59    1  36.0   62.7  100.0   80.0  12.0  9.07  5.30  67.0   34.0  68.0   \n",
       "\n",
       "     label  \n",
       "0        0  \n",
       "1        0  \n",
       "2        0  \n",
       "3        0  \n",
       "4        0  \n",
       "..     ...  \n",
       "199      1  \n",
       "200      1  \n",
       "201      1  \n",
       "202      1  \n",
       "203      1  \n",
       "\n",
       "[204 rows x 13 columns]"
      ]
     },
     "execution_count": 2,
     "metadata": {},
     "output_type": "execute_result"
    }
   ],
   "source": [
    "data = pd.read_csv('Hepatitis_C.csv')\n",
    "data"
   ]
  },
  {
   "cell_type": "markdown",
   "id": "e362c2f0-3a8f-44b5-a920-321b3d855bb6",
   "metadata": {},
   "source": [
    "## Split data to X and y"
   ]
  },
  {
   "cell_type": "code",
   "execution_count": 3,
   "id": "e7cc15a4-baa5-45a0-a1c7-8099b8cf7aed",
   "metadata": {},
   "outputs": [
    {
     "name": "stdout",
     "output_type": "stream",
     "text": [
      "(204, 12) (204,)\n"
     ]
    }
   ],
   "source": [
    "X = data.drop('label', axis=1).copy()\n",
    "y = data['label'].copy()\n",
    "\n",
    "print(X.shape, y.shape)"
   ]
  },
  {
   "cell_type": "markdown",
   "id": "11427abf-0b60-49f2-8242-d5301f549513",
   "metadata": {},
   "source": [
    "# Normalize data"
   ]
  },
  {
   "cell_type": "code",
   "execution_count": 4,
   "id": "8d10929a-869a-4665-968c-d2920b218c52",
   "metadata": {},
   "outputs": [
    {
     "name": "stdout",
     "output_type": "stream",
     "text": [
      "(204, 12) (204,)\n"
     ]
    }
   ],
   "source": [
    "from sklearn.preprocessing import StandardScaler\n",
    "\n",
    "scaler = StandardScaler()\n",
    "\n",
    "X = scaler.fit_transform(X)\n",
    "\n",
    "print(X.shape, y.shape)"
   ]
  },
  {
   "cell_type": "markdown",
   "id": "06caf429",
   "metadata": {},
   "source": [
    "## Cross Validation "
   ]
  },
  {
   "cell_type": "code",
   "execution_count": 5,
   "id": "7d8e98b8",
   "metadata": {},
   "outputs": [
    {
     "name": "stdout",
     "output_type": "stream",
     "text": [
      "Score: 0.711\n"
     ]
    }
   ],
   "source": [
    "from sklearn.model_selection import cross_validate\n",
    "\n",
    "def cross_validation_function(clf, scoring, cv):\n",
    "    \n",
    "    cv = cross_validate(clf, X, y, scoring=scoring, cv=cv)\n",
    "    \n",
    "    mean_ = cv[\"test_score\"].mean()\n",
    "    return mean_\n",
    "\n",
    "clf = SVC()\n",
    "score = cross_validation_function(clf, 'matthews_corrcoef', 3)\n",
    "print(f'Score: {score.round(4)}')"
   ]
  },
  {
   "cell_type": "markdown",
   "id": "e7094a55",
   "metadata": {},
   "source": [
    "## Nested Cross Validation "
   ]
  },
  {
   "cell_type": "code",
   "execution_count": 6,
   "id": "1e68cf94",
   "metadata": {},
   "outputs": [
    {
     "name": "stdout",
     "output_type": "stream",
     "text": [
      "Score: 0.7805\n"
     ]
    }
   ],
   "source": [
    "from sklearn.model_selection import GridSearchCV\n",
    "\n",
    "# svc inner loop\n",
    "svc_grid = GridSearchCV(SVC(), cv=3, scoring='matthews_corrcoef',\n",
    "                        param_grid={'kernel': ['linear', 'poly']})\n",
    "# svc outer loop\n",
    "score = cross_validation_function(svc_grid, 'matthews_corrcoef', cv=5)\n",
    "print(f'Score: {score.round(4)}')"
   ]
  },
  {
   "cell_type": "code",
   "execution_count": 10,
   "id": "cf98e57e-2be8-49a9-93af-79db117606fc",
   "metadata": {},
   "outputs": [],
   "source": [
    "def objective(trial, model):\n",
    "    # -- Tune estimator algorithm\n",
    "    params_svc = {\n",
    "            'C':trial.suggest_float(\"C\", 0.01, 10),\n",
    "            'gamma':trial.suggest_float('gamma', 0.01, 1)\n",
    "        }\n",
    "    \n",
    "    params=params_svc\n",
    "    clf = model.set_params(**params)\n",
    "    \n",
    "    # -- Cross-validate the features reduced by dimensionality reduction methods\n",
    "    cv_inner = StratifiedKFold(n_splits=3, shuffle=True, random_state=42)\n",
    "    \n",
    "    score = cross_val_score(clf, X, y, \n",
    "                            scoring='f1_macro', cv=cv_inner)\n",
    "    score = score.mean()\n",
    "    return score"
   ]
  },
  {
   "cell_type": "markdown",
   "id": "98fadc98-2a4a-481d-afb2-1f9eec09823f",
   "metadata": {},
   "source": [
    "# Build nested Cross Validation (nCV) pipeline"
   ]
  },
  {
   "cell_type": "markdown",
   "id": "57f18988-ae95-4e64-8be4-44d9cc8b37e7",
   "metadata": {},
   "source": [
    "For the outer loop we will use K=5 folds and for the inner loop L=3 folds."
   ]
  },
  {
   "cell_type": "code",
   "execution_count": 11,
   "id": "d87764b3-5c6b-40a5-ae67-514a74dc8877",
   "metadata": {},
   "outputs": [],
   "source": [
    "from sklearn.model_selection import StratifiedKFold, cross_val_score\n",
    "\n",
    "cv_outer = StratifiedKFold(n_splits=5, shuffle=True, random_state=42)\n",
    "cv_inner = StratifiedKFold(n_splits=3, shuffle=True, random_state=42)"
   ]
  },
  {
   "cell_type": "code",
   "execution_count": 12,
   "id": "7baeae54-3cf4-4c3e-b83c-c2eb9ba2b552",
   "metadata": {
    "jupyter": {
     "outputs_hidden": true
    },
    "tags": []
   },
   "outputs": [
    {
     "name": "stderr",
     "output_type": "stream",
     "text": [
      "\u001b[32m[I 2023-04-06 20:27:51,913]\u001b[0m A new study created in memory with name: no-name-4a8d2b21-3f2c-4d20-9af4-d8a9a175bc8d\u001b[0m\n",
      "\u001b[32m[I 2023-04-06 20:27:51,937]\u001b[0m Trial 0 finished with value: 0.46937033945883505 and parameters: {'C': 3.7516557872851513, 'gamma': 0.951207163345817}. Best is trial 0 with value: 0.46937033945883505.\u001b[0m\n",
      "\u001b[32m[I 2023-04-06 20:27:51,958]\u001b[0m Trial 1 finished with value: 0.889883618602044 and parameters: {'C': 7.322619478695937, 'gamma': 0.6026718993550663}. Best is trial 1 with value: 0.889883618602044.\u001b[0m\n",
      "\u001b[32m[I 2023-04-06 20:27:51,983]\u001b[0m Trial 2 finished with value: 0.9139420912027295 and parameters: {'C': 1.5686262180199408, 'gamma': 0.16443457513284063}. Best is trial 2 with value: 0.9139420912027295.\u001b[0m\n",
      "\u001b[32m[I 2023-04-06 20:27:52,007]\u001b[0m Trial 3 finished with value: 0.399989649640325 and parameters: {'C': 0.5902552855603126, 'gamma': 0.8675143843171859}. Best is trial 2 with value: 0.9139420912027295.\u001b[0m\n",
      "\u001b[32m[I 2023-04-06 20:27:52,029]\u001b[0m Trial 4 finished with value: 0.8829426227454601 and parameters: {'C': 6.015138967314656, 'gamma': 0.710991852018085}. Best is trial 2 with value: 0.9139420912027295.\u001b[0m\n",
      "\u001b[32m[I 2023-04-06 20:27:52,051]\u001b[0m Trial 5 finished with value: 0.399989649640325 and parameters: {'C': 0.21563909801506645, 'gamma': 0.9702107536403743}. Best is trial 2 with value: 0.9139420912027295.\u001b[0m\n",
      "\u001b[32m[I 2023-04-06 20:27:52,074]\u001b[0m Trial 6 finished with value: 0.902623767904542 and parameters: {'C': 8.326101981596214, 'gamma': 0.2202157195714934}. Best is trial 2 with value: 0.9139420912027295.\u001b[0m\n",
      "\u001b[32m[I 2023-04-06 20:27:52,095]\u001b[0m Trial 7 finished with value: 0.9087678773328635 and parameters: {'C': 1.8264314223989353, 'gamma': 0.1915704647548995}. Best is trial 2 with value: 0.9139420912027295.\u001b[0m\n",
      "\u001b[32m[I 2023-04-06 20:27:52,118]\u001b[0m Trial 8 finished with value: 0.8973435670057844 and parameters: {'C': 3.0493800071657815, 'gamma': 0.5295088673159155}. Best is trial 2 with value: 0.9139420912027295.\u001b[0m\n",
      "\u001b[32m[I 2023-04-06 20:27:52,139]\u001b[0m Trial 9 finished with value: 0.9092050069041419 and parameters: {'C': 4.325130736234736, 'gamma': 0.2983168487960615}. Best is trial 2 with value: 0.9139420912027295.\u001b[0m\n",
      "\u001b[32m[I 2023-04-06 20:27:52,160]\u001b[0m Trial 10 finished with value: 0.927480603132777 and parameters: {'C': 9.451914076861565, 'gamma': 0.01593721112625901}. Best is trial 10 with value: 0.927480603132777.\u001b[0m\n",
      "\u001b[32m[I 2023-04-06 20:27:52,185]\u001b[0m Trial 11 finished with value: 0.927480603132777 and parameters: {'C': 9.695675736770777, 'gamma': 0.015244149605851996}. Best is trial 10 with value: 0.927480603132777.\u001b[0m\n",
      "\u001b[32m[I 2023-04-06 20:27:52,206]\u001b[0m Trial 12 finished with value: 0.9413238271597751 and parameters: {'C': 9.83900035145789, 'gamma': 0.04833794796157104}. Best is trial 12 with value: 0.9413238271597751.\u001b[0m\n",
      "\u001b[32m[I 2023-04-06 20:27:52,230]\u001b[0m Trial 13 finished with value: 0.927480603132777 and parameters: {'C': 9.876974156965883, 'gamma': 0.01576067344932161}. Best is trial 12 with value: 0.9413238271597751.\u001b[0m\n",
      "\u001b[32m[I 2023-04-06 20:27:52,254]\u001b[0m Trial 14 finished with value: 0.9151659702959524 and parameters: {'C': 8.040865987438453, 'gamma': 0.38580820098602114}. Best is trial 12 with value: 0.9413238271597751.\u001b[0m\n",
      "\u001b[32m[I 2023-04-06 20:27:52,278]\u001b[0m Trial 15 finished with value: 0.9185186142570378 and parameters: {'C': 5.9760185103838666, 'gamma': 0.09047704299455261}. Best is trial 12 with value: 0.9413238271597751.\u001b[0m\n",
      "\u001b[32m[I 2023-04-06 20:27:52,304]\u001b[0m Trial 16 finished with value: 0.9151659702959524 and parameters: {'C': 9.163313400111182, 'gamma': 0.3715028014463426}. Best is trial 12 with value: 0.9413238271597751.\u001b[0m\n",
      "\u001b[32m[I 2023-04-06 20:27:52,330]\u001b[0m Trial 17 finished with value: 0.9185186142570378 and parameters: {'C': 8.569183999145562, 'gamma': 0.11874952483531616}. Best is trial 12 with value: 0.9413238271597751.\u001b[0m\n",
      "\u001b[32m[I 2023-04-06 20:27:52,356]\u001b[0m Trial 18 finished with value: 0.9092050069041419 and parameters: {'C': 9.950040846407427, 'gamma': 0.27929344550811613}. Best is trial 12 with value: 0.9413238271597751.\u001b[0m\n",
      "\u001b[32m[I 2023-04-06 20:27:52,380]\u001b[0m Trial 19 finished with value: 0.9185186142570378 and parameters: {'C': 7.294421769972725, 'gamma': 0.09811765063142708}. Best is trial 12 with value: 0.9413238271597751.\u001b[0m\n",
      "\u001b[32m[I 2023-04-06 20:27:53,436]\u001b[0m A new study created in memory with name: no-name-5b93b103-4470-4741-a916-8a9264fde0a7\u001b[0m\n",
      "\u001b[32m[I 2023-04-06 20:27:53,469]\u001b[0m Trial 0 finished with value: 0.46937033945883505 and parameters: {'C': 3.7516557872851513, 'gamma': 0.951207163345817}. Best is trial 0 with value: 0.46937033945883505.\u001b[0m\n",
      "\u001b[32m[I 2023-04-06 20:27:53,496]\u001b[0m Trial 1 finished with value: 0.889883618602044 and parameters: {'C': 7.322619478695937, 'gamma': 0.6026718993550663}. Best is trial 1 with value: 0.889883618602044.\u001b[0m\n",
      "\u001b[32m[I 2023-04-06 20:27:53,520]\u001b[0m Trial 2 finished with value: 0.9139420912027295 and parameters: {'C': 1.5686262180199408, 'gamma': 0.16443457513284063}. Best is trial 2 with value: 0.9139420912027295.\u001b[0m\n",
      "\u001b[32m[I 2023-04-06 20:27:53,543]\u001b[0m Trial 3 finished with value: 0.399989649640325 and parameters: {'C': 0.5902552855603126, 'gamma': 0.8675143843171859}. Best is trial 2 with value: 0.9139420912027295.\u001b[0m\n",
      "\u001b[32m[I 2023-04-06 20:27:53,567]\u001b[0m Trial 4 finished with value: 0.8829426227454601 and parameters: {'C': 6.015138967314656, 'gamma': 0.710991852018085}. Best is trial 2 with value: 0.9139420912027295.\u001b[0m\n",
      "\u001b[32m[I 2023-04-06 20:27:53,590]\u001b[0m Trial 5 finished with value: 0.399989649640325 and parameters: {'C': 0.21563909801506645, 'gamma': 0.9702107536403743}. Best is trial 2 with value: 0.9139420912027295.\u001b[0m\n",
      "\u001b[32m[I 2023-04-06 20:27:53,611]\u001b[0m Trial 6 finished with value: 0.902623767904542 and parameters: {'C': 8.326101981596214, 'gamma': 0.2202157195714934}. Best is trial 2 with value: 0.9139420912027295.\u001b[0m\n",
      "\u001b[32m[I 2023-04-06 20:27:53,637]\u001b[0m Trial 7 finished with value: 0.9087678773328635 and parameters: {'C': 1.8264314223989353, 'gamma': 0.1915704647548995}. Best is trial 2 with value: 0.9139420912027295.\u001b[0m\n",
      "\u001b[32m[I 2023-04-06 20:27:53,661]\u001b[0m Trial 8 finished with value: 0.8973435670057844 and parameters: {'C': 3.0493800071657815, 'gamma': 0.5295088673159155}. Best is trial 2 with value: 0.9139420912027295.\u001b[0m\n",
      "\u001b[32m[I 2023-04-06 20:27:53,681]\u001b[0m Trial 9 finished with value: 0.9092050069041419 and parameters: {'C': 4.325130736234736, 'gamma': 0.2983168487960615}. Best is trial 2 with value: 0.9139420912027295.\u001b[0m\n",
      "\u001b[32m[I 2023-04-06 20:27:53,711]\u001b[0m Trial 10 finished with value: 0.927480603132777 and parameters: {'C': 9.451914076861565, 'gamma': 0.01593721112625901}. Best is trial 10 with value: 0.927480603132777.\u001b[0m\n",
      "\u001b[32m[I 2023-04-06 20:27:53,738]\u001b[0m Trial 11 finished with value: 0.927480603132777 and parameters: {'C': 9.695675736770777, 'gamma': 0.015244149605851996}. Best is trial 10 with value: 0.927480603132777.\u001b[0m\n",
      "\u001b[32m[I 2023-04-06 20:27:53,764]\u001b[0m Trial 12 finished with value: 0.9413238271597751 and parameters: {'C': 9.83900035145789, 'gamma': 0.04833794796157104}. Best is trial 12 with value: 0.9413238271597751.\u001b[0m\n",
      "\u001b[32m[I 2023-04-06 20:27:53,792]\u001b[0m Trial 13 finished with value: 0.927480603132777 and parameters: {'C': 9.876974156965883, 'gamma': 0.01576067344932161}. Best is trial 12 with value: 0.9413238271597751.\u001b[0m\n",
      "\u001b[32m[I 2023-04-06 20:27:53,825]\u001b[0m Trial 14 finished with value: 0.9151659702959524 and parameters: {'C': 8.040865987438453, 'gamma': 0.38580820098602114}. Best is trial 12 with value: 0.9413238271597751.\u001b[0m\n",
      "\u001b[32m[I 2023-04-06 20:27:53,858]\u001b[0m Trial 15 finished with value: 0.9185186142570378 and parameters: {'C': 5.9760185103838666, 'gamma': 0.09047704299455261}. Best is trial 12 with value: 0.9413238271597751.\u001b[0m\n",
      "\u001b[32m[I 2023-04-06 20:27:53,899]\u001b[0m Trial 16 finished with value: 0.9151659702959524 and parameters: {'C': 9.163313400111182, 'gamma': 0.3715028014463426}. Best is trial 12 with value: 0.9413238271597751.\u001b[0m\n",
      "\u001b[32m[I 2023-04-06 20:27:53,929]\u001b[0m Trial 17 finished with value: 0.9185186142570378 and parameters: {'C': 8.569183999145562, 'gamma': 0.11874952483531616}. Best is trial 12 with value: 0.9413238271597751.\u001b[0m\n"
     ]
    },
    {
     "name": "stderr",
     "output_type": "stream",
     "text": [
      "\u001b[32m[I 2023-04-06 20:27:53,961]\u001b[0m Trial 18 finished with value: 0.9092050069041419 and parameters: {'C': 9.950040846407427, 'gamma': 0.27929344550811613}. Best is trial 12 with value: 0.9413238271597751.\u001b[0m\n",
      "\u001b[32m[I 2023-04-06 20:27:53,991]\u001b[0m Trial 19 finished with value: 0.9185186142570378 and parameters: {'C': 7.294421769972725, 'gamma': 0.09811765063142708}. Best is trial 12 with value: 0.9413238271597751.\u001b[0m\n",
      "\u001b[32m[I 2023-04-06 20:27:54,015]\u001b[0m A new study created in memory with name: no-name-55cc7da9-8f81-45c7-b81d-7573dc025054\u001b[0m\n",
      "\u001b[32m[I 2023-04-06 20:27:54,038]\u001b[0m Trial 0 finished with value: 0.46937033945883505 and parameters: {'C': 3.7516557872851513, 'gamma': 0.951207163345817}. Best is trial 0 with value: 0.46937033945883505.\u001b[0m\n",
      "\u001b[32m[I 2023-04-06 20:27:54,059]\u001b[0m Trial 1 finished with value: 0.889883618602044 and parameters: {'C': 7.322619478695937, 'gamma': 0.6026718993550663}. Best is trial 1 with value: 0.889883618602044.\u001b[0m\n",
      "\u001b[32m[I 2023-04-06 20:27:54,079]\u001b[0m Trial 2 finished with value: 0.9139420912027295 and parameters: {'C': 1.5686262180199408, 'gamma': 0.16443457513284063}. Best is trial 2 with value: 0.9139420912027295.\u001b[0m\n",
      "\u001b[32m[I 2023-04-06 20:27:54,098]\u001b[0m Trial 3 finished with value: 0.399989649640325 and parameters: {'C': 0.5902552855603126, 'gamma': 0.8675143843171859}. Best is trial 2 with value: 0.9139420912027295.\u001b[0m\n",
      "\u001b[32m[I 2023-04-06 20:27:54,121]\u001b[0m Trial 4 finished with value: 0.8829426227454601 and parameters: {'C': 6.015138967314656, 'gamma': 0.710991852018085}. Best is trial 2 with value: 0.9139420912027295.\u001b[0m\n",
      "\u001b[32m[I 2023-04-06 20:27:54,141]\u001b[0m Trial 5 finished with value: 0.399989649640325 and parameters: {'C': 0.21563909801506645, 'gamma': 0.9702107536403743}. Best is trial 2 with value: 0.9139420912027295.\u001b[0m\n",
      "\u001b[32m[I 2023-04-06 20:27:54,163]\u001b[0m Trial 6 finished with value: 0.902623767904542 and parameters: {'C': 8.326101981596214, 'gamma': 0.2202157195714934}. Best is trial 2 with value: 0.9139420912027295.\u001b[0m\n",
      "\u001b[32m[I 2023-04-06 20:27:54,183]\u001b[0m Trial 7 finished with value: 0.9087678773328635 and parameters: {'C': 1.8264314223989353, 'gamma': 0.1915704647548995}. Best is trial 2 with value: 0.9139420912027295.\u001b[0m\n",
      "\u001b[32m[I 2023-04-06 20:27:54,207]\u001b[0m Trial 8 finished with value: 0.8973435670057844 and parameters: {'C': 3.0493800071657815, 'gamma': 0.5295088673159155}. Best is trial 2 with value: 0.9139420912027295.\u001b[0m\n",
      "\u001b[32m[I 2023-04-06 20:27:54,233]\u001b[0m Trial 9 finished with value: 0.9092050069041419 and parameters: {'C': 4.325130736234736, 'gamma': 0.2983168487960615}. Best is trial 2 with value: 0.9139420912027295.\u001b[0m\n",
      "\u001b[32m[I 2023-04-06 20:27:54,258]\u001b[0m Trial 10 finished with value: 0.927480603132777 and parameters: {'C': 9.451914076861565, 'gamma': 0.01593721112625901}. Best is trial 10 with value: 0.927480603132777.\u001b[0m\n",
      "\u001b[32m[I 2023-04-06 20:27:54,287]\u001b[0m Trial 11 finished with value: 0.927480603132777 and parameters: {'C': 9.695675736770777, 'gamma': 0.015244149605851996}. Best is trial 10 with value: 0.927480603132777.\u001b[0m\n",
      "\u001b[32m[I 2023-04-06 20:27:54,311]\u001b[0m Trial 12 finished with value: 0.9413238271597751 and parameters: {'C': 9.83900035145789, 'gamma': 0.04833794796157104}. Best is trial 12 with value: 0.9413238271597751.\u001b[0m\n",
      "\u001b[32m[I 2023-04-06 20:27:54,335]\u001b[0m Trial 13 finished with value: 0.927480603132777 and parameters: {'C': 9.876974156965883, 'gamma': 0.01576067344932161}. Best is trial 12 with value: 0.9413238271597751.\u001b[0m\n",
      "\u001b[32m[I 2023-04-06 20:27:54,357]\u001b[0m Trial 14 finished with value: 0.9151659702959524 and parameters: {'C': 8.040865987438453, 'gamma': 0.38580820098602114}. Best is trial 12 with value: 0.9413238271597751.\u001b[0m\n",
      "\u001b[32m[I 2023-04-06 20:27:54,383]\u001b[0m Trial 15 finished with value: 0.9185186142570378 and parameters: {'C': 5.9760185103838666, 'gamma': 0.09047704299455261}. Best is trial 12 with value: 0.9413238271597751.\u001b[0m\n",
      "\u001b[32m[I 2023-04-06 20:27:54,410]\u001b[0m Trial 16 finished with value: 0.9151659702959524 and parameters: {'C': 9.163313400111182, 'gamma': 0.3715028014463426}. Best is trial 12 with value: 0.9413238271597751.\u001b[0m\n",
      "\u001b[32m[I 2023-04-06 20:27:54,437]\u001b[0m Trial 17 finished with value: 0.9185186142570378 and parameters: {'C': 8.569183999145562, 'gamma': 0.11874952483531616}. Best is trial 12 with value: 0.9413238271597751.\u001b[0m\n",
      "\u001b[32m[I 2023-04-06 20:27:54,467]\u001b[0m Trial 18 finished with value: 0.9092050069041419 and parameters: {'C': 9.950040846407427, 'gamma': 0.27929344550811613}. Best is trial 12 with value: 0.9413238271597751.\u001b[0m\n",
      "\u001b[32m[I 2023-04-06 20:27:54,502]\u001b[0m Trial 19 finished with value: 0.9185186142570378 and parameters: {'C': 7.294421769972725, 'gamma': 0.09811765063142708}. Best is trial 12 with value: 0.9413238271597751.\u001b[0m\n"
     ]
    }
   ],
   "source": [
    "test_score_nested = []\n",
    "\n",
    "N_TRIALS = 3\n",
    "for i in range(N_TRIALS):\n",
    "\n",
    "    clf = SVC()\n",
    "    \n",
    "    _objective = lambda trial: objective(trial, clf)\n",
    "    \n",
    "    sampler = TPESampler(seed=42) # create a seed for the sampler for reproducibility\n",
    "    study = optuna.create_study(direction=\"maximize\", sampler=sampler)\n",
    "    study.optimize(_objective, n_trials=20)\n",
    "    model = clf.set_params(**study.best_params)\n",
    "    \n",
    "    model.fit(X, y)\n",
    "   \n",
    "    # Nested CV with parameter optimization\n",
    "    test_score = cross_val_score(model, X, y, cv=cv_outer, \n",
    "                                 scoring='matthews_corrcoef', n_jobs=2)\n",
    "    \n",
    "    test_score_nested.append(test_score.mean())"
   ]
  },
  {
   "cell_type": "code",
   "execution_count": 14,
   "id": "f98a92cd-a184-40d3-8e68-6588f6fe7063",
   "metadata": {},
   "outputs": [
    {
     "data": {
      "text/html": [
       "<div>\n",
       "<style scoped>\n",
       "    .dataframe tbody tr th:only-of-type {\n",
       "        vertical-align: middle;\n",
       "    }\n",
       "\n",
       "    .dataframe tbody tr th {\n",
       "        vertical-align: top;\n",
       "    }\n",
       "\n",
       "    .dataframe thead th {\n",
       "        text-align: right;\n",
       "    }\n",
       "</style>\n",
       "<table border=\"1\" class=\"dataframe\">\n",
       "  <thead>\n",
       "    <tr style=\"text-align: right;\">\n",
       "      <th></th>\n",
       "      <th>0</th>\n",
       "    </tr>\n",
       "  </thead>\n",
       "  <tbody>\n",
       "    <tr>\n",
       "      <th>0</th>\n",
       "      <td>0.912273</td>\n",
       "    </tr>\n",
       "    <tr>\n",
       "      <th>1</th>\n",
       "      <td>0.912273</td>\n",
       "    </tr>\n",
       "    <tr>\n",
       "      <th>2</th>\n",
       "      <td>0.912273</td>\n",
       "    </tr>\n",
       "  </tbody>\n",
       "</table>\n",
       "</div>"
      ],
      "text/plain": [
       "          0\n",
       "0  0.912273\n",
       "1  0.912273\n",
       "2  0.912273"
      ]
     },
     "execution_count": 14,
     "metadata": {},
     "output_type": "execute_result"
    }
   ],
   "source": [
    "all_scores = pd.DataFrame(test_score_nested)\n",
    "all_scores"
   ]
  },
  {
   "cell_type": "code",
   "execution_count": null,
   "id": "f32b4db7-784e-4886-adaa-7975d59ecea0",
   "metadata": {},
   "outputs": [],
   "source": []
  },
  {
   "cell_type": "code",
   "execution_count": null,
   "id": "f5532bae-63ae-4d23-b417-e6957676b384",
   "metadata": {},
   "outputs": [],
   "source": []
  },
  {
   "cell_type": "code",
   "execution_count": null,
   "id": "ea5ae4df-71c7-49ff-8dc3-b5060b048a31",
   "metadata": {},
   "outputs": [],
   "source": []
  },
  {
   "cell_type": "code",
   "execution_count": null,
   "id": "efc703e2-4b08-4775-91e7-3493fdd3c9ef",
   "metadata": {},
   "outputs": [],
   "source": []
  },
  {
   "cell_type": "code",
   "execution_count": null,
   "id": "bbb2fa2a-20ca-4b24-8a58-ed64438f9696",
   "metadata": {},
   "outputs": [],
   "source": []
  },
  {
   "cell_type": "code",
   "execution_count": null,
   "id": "6ce42954-ba88-4285-b159-33732d7e7a93",
   "metadata": {},
   "outputs": [],
   "source": []
  },
  {
   "cell_type": "code",
   "execution_count": null,
   "id": "84818a16-dc27-4b48-b311-70d48dc35a69",
   "metadata": {},
   "outputs": [],
   "source": [
    "# automatic nested cross-validation for random forest on a classification dataset\n",
    "from numpy import mean\n",
    "from numpy import std\n",
    "from sklearn.datasets import make_classification\n",
    "from sklearn.model_selection import cross_val_score\n",
    "from sklearn.model_selection import KFold\n",
    "from sklearn.model_selection import GridSearchCV\n",
    "from sklearn.ensemble import RandomForestClassifier\n",
    "# create dataset\n",
    "X, y = make_classification(n_samples=200, n_features=5, random_state=1)\n",
    "# configure the cross-validation procedure\n",
    "cv_inner = KFold(n_splits=3, shuffle=True, random_state=1)\n",
    "# define the model\n",
    "model = RandomForestClassifier(random_state=1)\n",
    "# define search space\n",
    "space = dict()\n",
    "space['n_estimators'] = [10, 100, 500]\n",
    "space['max_features'] = [2, 4, 6]\n",
    "# define search\n",
    "search = GridSearchCV(model, space, scoring='accuracy', n_jobs=1, cv=cv_inner, refit=True)\n",
    "# configure the cross-validation procedure\n",
    "cv_outer = KFold(n_splits=10, shuffle=True, random_state=1)\n",
    "# execute the nested cross-validation\n",
    "scores = cross_val_score(search, X, y, scoring='accuracy', cv=cv_outer, n_jobs=-1)\n",
    "# report performance\n",
    "print('Accuracy: %.3f (%.3f)' % (mean(scores), std(scores)))"
   ]
  }
 ],
 "metadata": {
  "kernelspec": {
   "display_name": "Python 3 (ipykernel)",
   "language": "python",
   "name": "python3"
  },
  "language_info": {
   "codemirror_mode": {
    "name": "ipython",
    "version": 3
   },
   "file_extension": ".py",
   "mimetype": "text/x-python",
   "name": "python",
   "nbconvert_exporter": "python",
   "pygments_lexer": "ipython3",
   "version": "3.9.10"
  }
 },
 "nbformat": 4,
 "nbformat_minor": 5
}
