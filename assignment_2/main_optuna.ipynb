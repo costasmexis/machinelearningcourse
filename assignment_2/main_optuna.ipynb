{
 "cells": [
  {
   "cell_type": "markdown",
   "id": "9f5ffee4-525b-48ce-9bcf-77cdac5df020",
   "metadata": {},
   "source": [
    "# Import Basic Libraries"
   ]
  },
  {
   "cell_type": "code",
   "execution_count": 3,
   "id": "1d4ec258-3286-4f20-9aa5-74ab334a292d",
   "metadata": {},
   "outputs": [],
   "source": [
    "import pandas as pd\n",
    "import numpy as np\n",
    "\n",
    "from tqdm import tqdm\n",
    "\n",
    "# Import libraries for ml methods\n",
    "from sklearn.linear_model import LogisticRegression\n",
    "from sklearn.naive_bayes import GaussianNB\n",
    "from sklearn.neighbors import KNeighborsClassifier\n",
    "from sklearn.discriminant_analysis import LinearDiscriminantAnalysis\n",
    "from sklearn.svm import SVC\n",
    "from sklearn.model_selection import GridSearchCV, cross_val_score\n",
    "from sklearn.metrics import make_scorer, matthews_corrcoef, balanced_accuracy_score, \\\n",
    "    f1_score, fbeta_score, recall_score, precision_score, average_precision_score, accuracy_score\n",
    "\n",
    "# import optuna for hyperparameter tuning\n",
    "import optuna\n",
    "optuna.logging.set_verbosity(optuna.logging.WARNING)\n",
    "from optuna.samplers import TPESampler\n",
    "from sklearn.neighbors import KNeighborsClassifier\n",
    "from sklearn.model_selection import StratifiedKFold, cross_val_score"
   ]
  },
  {
   "cell_type": "markdown",
   "id": "fe25fe2f-f299-415c-9a9c-8e39d5b64f16",
   "metadata": {},
   "source": [
    "# Data loading"
   ]
  },
  {
   "cell_type": "code",
   "execution_count": 4,
   "id": "0eb0e959-85df-414f-87f9-335ad6755996",
   "metadata": {},
   "outputs": [
    {
     "data": {
      "text/html": [
       "<div>\n",
       "<style scoped>\n",
       "    .dataframe tbody tr th:only-of-type {\n",
       "        vertical-align: middle;\n",
       "    }\n",
       "\n",
       "    .dataframe tbody tr th {\n",
       "        vertical-align: top;\n",
       "    }\n",
       "\n",
       "    .dataframe thead th {\n",
       "        text-align: right;\n",
       "    }\n",
       "</style>\n",
       "<table border=\"1\" class=\"dataframe\">\n",
       "  <thead>\n",
       "    <tr style=\"text-align: right;\">\n",
       "      <th></th>\n",
       "      <th>Age</th>\n",
       "      <th>Sex</th>\n",
       "      <th>ALB</th>\n",
       "      <th>ALP</th>\n",
       "      <th>ALT</th>\n",
       "      <th>AST</th>\n",
       "      <th>BIL</th>\n",
       "      <th>CHE</th>\n",
       "      <th>CHOL</th>\n",
       "      <th>CREA</th>\n",
       "      <th>GGT</th>\n",
       "      <th>PROT</th>\n",
       "      <th>label</th>\n",
       "    </tr>\n",
       "  </thead>\n",
       "  <tbody>\n",
       "    <tr>\n",
       "      <th>0</th>\n",
       "      <td>32</td>\n",
       "      <td>0</td>\n",
       "      <td>43.2</td>\n",
       "      <td>52.0</td>\n",
       "      <td>30.6</td>\n",
       "      <td>22.6</td>\n",
       "      <td>18.9</td>\n",
       "      <td>7.33</td>\n",
       "      <td>4.74</td>\n",
       "      <td>80.0</td>\n",
       "      <td>33.8</td>\n",
       "      <td>75.7</td>\n",
       "      <td>0</td>\n",
       "    </tr>\n",
       "    <tr>\n",
       "      <th>1</th>\n",
       "      <td>45</td>\n",
       "      <td>0</td>\n",
       "      <td>41.7</td>\n",
       "      <td>73.2</td>\n",
       "      <td>43.6</td>\n",
       "      <td>29.4</td>\n",
       "      <td>6.4</td>\n",
       "      <td>8.89</td>\n",
       "      <td>5.31</td>\n",
       "      <td>71.0</td>\n",
       "      <td>67.4</td>\n",
       "      <td>70.3</td>\n",
       "      <td>0</td>\n",
       "    </tr>\n",
       "    <tr>\n",
       "      <th>2</th>\n",
       "      <td>55</td>\n",
       "      <td>0</td>\n",
       "      <td>41.5</td>\n",
       "      <td>59.5</td>\n",
       "      <td>15.4</td>\n",
       "      <td>16.2</td>\n",
       "      <td>6.8</td>\n",
       "      <td>6.35</td>\n",
       "      <td>5.22</td>\n",
       "      <td>80.0</td>\n",
       "      <td>12.4</td>\n",
       "      <td>69.9</td>\n",
       "      <td>0</td>\n",
       "    </tr>\n",
       "    <tr>\n",
       "      <th>3</th>\n",
       "      <td>53</td>\n",
       "      <td>0</td>\n",
       "      <td>37.8</td>\n",
       "      <td>98.1</td>\n",
       "      <td>30.5</td>\n",
       "      <td>21.1</td>\n",
       "      <td>4.0</td>\n",
       "      <td>5.02</td>\n",
       "      <td>4.42</td>\n",
       "      <td>94.0</td>\n",
       "      <td>23.2</td>\n",
       "      <td>65.2</td>\n",
       "      <td>0</td>\n",
       "    </tr>\n",
       "    <tr>\n",
       "      <th>4</th>\n",
       "      <td>56</td>\n",
       "      <td>1</td>\n",
       "      <td>39.7</td>\n",
       "      <td>66.0</td>\n",
       "      <td>14.2</td>\n",
       "      <td>20.8</td>\n",
       "      <td>3.5</td>\n",
       "      <td>7.48</td>\n",
       "      <td>5.88</td>\n",
       "      <td>66.0</td>\n",
       "      <td>7.2</td>\n",
       "      <td>67.2</td>\n",
       "      <td>0</td>\n",
       "    </tr>\n",
       "    <tr>\n",
       "      <th>...</th>\n",
       "      <td>...</td>\n",
       "      <td>...</td>\n",
       "      <td>...</td>\n",
       "      <td>...</td>\n",
       "      <td>...</td>\n",
       "      <td>...</td>\n",
       "      <td>...</td>\n",
       "      <td>...</td>\n",
       "      <td>...</td>\n",
       "      <td>...</td>\n",
       "      <td>...</td>\n",
       "      <td>...</td>\n",
       "      <td>...</td>\n",
       "    </tr>\n",
       "    <tr>\n",
       "      <th>199</th>\n",
       "      <td>62</td>\n",
       "      <td>1</td>\n",
       "      <td>32.0</td>\n",
       "      <td>416.6</td>\n",
       "      <td>5.9</td>\n",
       "      <td>110.3</td>\n",
       "      <td>50.0</td>\n",
       "      <td>5.57</td>\n",
       "      <td>6.30</td>\n",
       "      <td>55.7</td>\n",
       "      <td>650.9</td>\n",
       "      <td>68.5</td>\n",
       "      <td>1</td>\n",
       "    </tr>\n",
       "    <tr>\n",
       "      <th>200</th>\n",
       "      <td>64</td>\n",
       "      <td>1</td>\n",
       "      <td>24.0</td>\n",
       "      <td>102.8</td>\n",
       "      <td>2.9</td>\n",
       "      <td>44.4</td>\n",
       "      <td>20.0</td>\n",
       "      <td>1.54</td>\n",
       "      <td>3.02</td>\n",
       "      <td>63.0</td>\n",
       "      <td>35.9</td>\n",
       "      <td>71.3</td>\n",
       "      <td>1</td>\n",
       "    </tr>\n",
       "    <tr>\n",
       "      <th>201</th>\n",
       "      <td>64</td>\n",
       "      <td>1</td>\n",
       "      <td>29.0</td>\n",
       "      <td>87.3</td>\n",
       "      <td>3.5</td>\n",
       "      <td>99.0</td>\n",
       "      <td>48.0</td>\n",
       "      <td>1.66</td>\n",
       "      <td>3.63</td>\n",
       "      <td>66.7</td>\n",
       "      <td>64.2</td>\n",
       "      <td>82.0</td>\n",
       "      <td>1</td>\n",
       "    </tr>\n",
       "    <tr>\n",
       "      <th>202</th>\n",
       "      <td>46</td>\n",
       "      <td>1</td>\n",
       "      <td>33.0</td>\n",
       "      <td>62.7</td>\n",
       "      <td>39.0</td>\n",
       "      <td>62.0</td>\n",
       "      <td>20.0</td>\n",
       "      <td>3.56</td>\n",
       "      <td>4.20</td>\n",
       "      <td>52.0</td>\n",
       "      <td>50.0</td>\n",
       "      <td>71.0</td>\n",
       "      <td>1</td>\n",
       "    </tr>\n",
       "    <tr>\n",
       "      <th>203</th>\n",
       "      <td>59</td>\n",
       "      <td>1</td>\n",
       "      <td>36.0</td>\n",
       "      <td>62.7</td>\n",
       "      <td>100.0</td>\n",
       "      <td>80.0</td>\n",
       "      <td>12.0</td>\n",
       "      <td>9.07</td>\n",
       "      <td>5.30</td>\n",
       "      <td>67.0</td>\n",
       "      <td>34.0</td>\n",
       "      <td>68.0</td>\n",
       "      <td>1</td>\n",
       "    </tr>\n",
       "  </tbody>\n",
       "</table>\n",
       "<p>204 rows × 13 columns</p>\n",
       "</div>"
      ],
      "text/plain": [
       "     Age  Sex   ALB    ALP    ALT    AST   BIL   CHE  CHOL  CREA    GGT  PROT  \\\n",
       "0     32    0  43.2   52.0   30.6   22.6  18.9  7.33  4.74  80.0   33.8  75.7   \n",
       "1     45    0  41.7   73.2   43.6   29.4   6.4  8.89  5.31  71.0   67.4  70.3   \n",
       "2     55    0  41.5   59.5   15.4   16.2   6.8  6.35  5.22  80.0   12.4  69.9   \n",
       "3     53    0  37.8   98.1   30.5   21.1   4.0  5.02  4.42  94.0   23.2  65.2   \n",
       "4     56    1  39.7   66.0   14.2   20.8   3.5  7.48  5.88  66.0    7.2  67.2   \n",
       "..   ...  ...   ...    ...    ...    ...   ...   ...   ...   ...    ...   ...   \n",
       "199   62    1  32.0  416.6    5.9  110.3  50.0  5.57  6.30  55.7  650.9  68.5   \n",
       "200   64    1  24.0  102.8    2.9   44.4  20.0  1.54  3.02  63.0   35.9  71.3   \n",
       "201   64    1  29.0   87.3    3.5   99.0  48.0  1.66  3.63  66.7   64.2  82.0   \n",
       "202   46    1  33.0   62.7   39.0   62.0  20.0  3.56  4.20  52.0   50.0  71.0   \n",
       "203   59    1  36.0   62.7  100.0   80.0  12.0  9.07  5.30  67.0   34.0  68.0   \n",
       "\n",
       "     label  \n",
       "0        0  \n",
       "1        0  \n",
       "2        0  \n",
       "3        0  \n",
       "4        0  \n",
       "..     ...  \n",
       "199      1  \n",
       "200      1  \n",
       "201      1  \n",
       "202      1  \n",
       "203      1  \n",
       "\n",
       "[204 rows x 13 columns]"
      ]
     },
     "execution_count": 4,
     "metadata": {},
     "output_type": "execute_result"
    }
   ],
   "source": [
    "data = pd.read_csv('Hepatitis_C.csv')\n",
    "data"
   ]
  },
  {
   "cell_type": "markdown",
   "id": "e362c2f0-3a8f-44b5-a920-321b3d855bb6",
   "metadata": {},
   "source": [
    "## Split data to X and y"
   ]
  },
  {
   "cell_type": "code",
   "execution_count": 5,
   "id": "e7cc15a4-baa5-45a0-a1c7-8099b8cf7aed",
   "metadata": {},
   "outputs": [
    {
     "name": "stdout",
     "output_type": "stream",
     "text": [
      "(204, 12) (204,)\n"
     ]
    }
   ],
   "source": [
    "X = data.drop('label', axis=1).copy()\n",
    "y = data['label'].copy()\n",
    "\n",
    "print(X.shape, y.shape)"
   ]
  },
  {
   "cell_type": "markdown",
   "id": "11427abf-0b60-49f2-8242-d5301f549513",
   "metadata": {},
   "source": [
    "# Normalize data"
   ]
  },
  {
   "cell_type": "code",
   "execution_count": 6,
   "id": "8d10929a-869a-4665-968c-d2920b218c52",
   "metadata": {},
   "outputs": [
    {
     "name": "stdout",
     "output_type": "stream",
     "text": [
      "(204, 12) (204,)\n"
     ]
    }
   ],
   "source": [
    "from sklearn.preprocessing import StandardScaler\n",
    "\n",
    "scaler = StandardScaler()\n",
    "\n",
    "X = scaler.fit_transform(X)\n",
    "\n",
    "print(X.shape, y.shape)"
   ]
  },
  {
   "cell_type": "markdown",
   "id": "856bc170",
   "metadata": {},
   "source": [
    "## Define a dict of ML models to be studied"
   ]
  },
  {
   "cell_type": "code",
   "execution_count": 7,
   "id": "856e9e11",
   "metadata": {},
   "outputs": [],
   "source": [
    "# Define classifiers\n",
    "classifiers = {\n",
    "    'LR':  LogisticRegression(),\n",
    "    'GNB': GaussianNB(),\n",
    "    'kNN': KNeighborsClassifier(),\n",
    "    'LDA': LinearDiscriminantAnalysis(),\n",
    "    'SVM': SVC()\n",
    "}"
   ]
  },
  {
   "cell_type": "markdown",
   "id": "06caf429",
   "metadata": {},
   "source": [
    "## Cross Validation "
   ]
  },
  {
   "cell_type": "markdown",
   "id": "67240ba1",
   "metadata": {},
   "source": [
    "Here we just perform a simple CV, just to see..."
   ]
  },
  {
   "cell_type": "code",
   "execution_count": 8,
   "id": "7d8e98b8",
   "metadata": {},
   "outputs": [
    {
     "name": "stdout",
     "output_type": "stream",
     "text": [
      "LR Score: 0.656\n",
      "GNB Score: 0.708\n",
      "kNN Score: 0.5884\n",
      "LDA Score: 0.5596\n",
      "SVM Score: 0.711\n"
     ]
    }
   ],
   "source": [
    "from sklearn.model_selection import cross_validate\n",
    "\n",
    "def cross_validation_function(clf, scoring, cv):\n",
    "    \n",
    "    cv = cross_validate(clf, X, y, scoring=scoring, cv=cv)\n",
    "    \n",
    "    mean_ = cv[\"test_score\"].mean()\n",
    "    return mean_\n",
    "\n",
    "for name, clf in classifiers.items():\n",
    "    score = cross_validation_function(clf, 'matthews_corrcoef', 3)\n",
    "    print(f'{name} Score: {score.round(4)}')"
   ]
  },
  {
   "cell_type": "markdown",
   "id": "c6641c79",
   "metadata": {},
   "source": [
    "Seems like `SVM` performs best at default settings."
   ]
  },
  {
   "cell_type": "markdown",
   "id": "bc4a7001",
   "metadata": {},
   "source": [
    "## Optuna function for hyperparameter tuning"
   ]
  },
  {
   "cell_type": "code",
   "execution_count": 10,
   "id": "cf98e57e-2be8-49a9-93af-79db117606fc",
   "metadata": {},
   "outputs": [],
   "source": [
    "def objective(trial, name, model):\n",
    "    # -- Tune estimator algorithm\n",
    "    if name == 'LR':\n",
    "        params = {\n",
    "            'C':trial.suggest_float('C', 1e-3, 1e3),\n",
    "            'max_iter':trial.suggest_int('max_iter', 1000, 10000)\n",
    "        }\n",
    "    elif name == 'GNB':\n",
    "        params = {\n",
    "            'var_smoothing':trial.suggest_float('var_smoothing', 1e-13, 1e-3)\n",
    "        }\n",
    "    elif name == 'kNN':\n",
    "        params = {\n",
    "                'n_neighbors':trial.suggest_int('n_neighbors', 1, 15),\n",
    "                'weights':trial.suggest_categorical('weights', ['uniform', 'distance'])        \n",
    "        }\n",
    "    elif name == 'LDA':\n",
    "        params = {\n",
    "            'solver':trial.suggest_categorical('solver', ['svd', 'lsqr', 'eigen']),\n",
    "        }\n",
    "        if params['solver'] != 'svd':\n",
    "            params['shrinkage'] = trial.suggest_float('shrinkage', 0, 1)\n",
    "        else:\n",
    "            params['shrinkage'] = None\n",
    "    elif name == 'SVM':\n",
    "        params = {\n",
    "            'C':trial.suggest_float('C', 1e-2, 10),\n",
    "            'gamma':trial.suggest_float('gamma', 1e-3, 1),\n",
    "            'kernel':trial.suggest_categorical('kernel', ['linear', 'rbf'])   \n",
    "        }\n",
    "        \n",
    "    clf = model.set_params(**params)\n",
    "    \n",
    "    # -- Cross-validate the features reduced by dimensionality reduction methods\n",
    "    cv_inner = StratifiedKFold(n_splits=3, shuffle=True, random_state=42)\n",
    "    \n",
    "    score = cross_val_score(clf, X, y, \n",
    "                            scoring='f1_macro', cv=cv_inner)\n",
    "    score = score.mean()\n",
    "    return score\n",
    "\n",
    "def optuna_tuning(name, clf):\n",
    "    _objective = lambda trial: objective(trial, name, clf)\n",
    "\n",
    "    sampler = TPESampler(seed=42) # create a seed for the sampler for reproducibility\n",
    "    study = optuna.create_study(direction=\"maximize\", sampler=sampler)\n",
    "    study.optimize(_objective, n_trials=200)\n",
    "    \n",
    "    model = clf.set_params(**study.best_params)\n",
    "    model.fit(X, y)\n",
    "\n",
    "    score = cross_validation_function(clf, 'matthews_corrcoef', 3)\n",
    "    return score"
   ]
  },
  {
   "cell_type": "markdown",
   "id": "62cdf7b3",
   "metadata": {},
   "source": [
    "## Hyperparameter tuning for all models"
   ]
  },
  {
   "cell_type": "code",
   "execution_count": 11,
   "id": "ba9ad235",
   "metadata": {},
   "outputs": [
    {
     "name": "stderr",
     "output_type": "stream",
     "text": [
      "100%|█████████████████████████████████████████████| 5/5 [00:19<00:00,  3.84s/it]\n"
     ]
    }
   ],
   "source": [
    "SCORES = []\n",
    "for name, clf in tqdm(classifiers.items()):\n",
    "    score = optuna_tuning(name,clf)\n",
    "    SCORES.append(score)"
   ]
  },
  {
   "cell_type": "code",
   "execution_count": 28,
   "id": "fb2ad2ce",
   "metadata": {},
   "outputs": [
    {
     "data": {
      "text/html": [
       "<div>\n",
       "<style scoped>\n",
       "    .dataframe tbody tr th:only-of-type {\n",
       "        vertical-align: middle;\n",
       "    }\n",
       "\n",
       "    .dataframe tbody tr th {\n",
       "        vertical-align: top;\n",
       "    }\n",
       "\n",
       "    .dataframe thead th {\n",
       "        text-align: right;\n",
       "    }\n",
       "</style>\n",
       "<table border=\"1\" class=\"dataframe\">\n",
       "  <thead>\n",
       "    <tr style=\"text-align: right;\">\n",
       "      <th></th>\n",
       "      <th>score</th>\n",
       "    </tr>\n",
       "  </thead>\n",
       "  <tbody>\n",
       "    <tr>\n",
       "      <th>LR</th>\n",
       "      <td>0.746241</td>\n",
       "    </tr>\n",
       "    <tr>\n",
       "      <th>GNB</th>\n",
       "      <td>0.708032</td>\n",
       "    </tr>\n",
       "    <tr>\n",
       "      <th>kNN</th>\n",
       "      <td>0.598557</td>\n",
       "    </tr>\n",
       "    <tr>\n",
       "      <th>LDA</th>\n",
       "      <td>0.583057</td>\n",
       "    </tr>\n",
       "    <tr>\n",
       "      <th>SVM</th>\n",
       "      <td>0.732121</td>\n",
       "    </tr>\n",
       "  </tbody>\n",
       "</table>\n",
       "</div>"
      ],
      "text/plain": [
       "        score\n",
       "LR   0.746241\n",
       "GNB  0.708032\n",
       "kNN  0.598557\n",
       "LDA  0.583057\n",
       "SVM  0.732121"
      ]
     },
     "execution_count": 28,
     "metadata": {},
     "output_type": "execute_result"
    }
   ],
   "source": [
    "results = pd.DataFrame(columns=classifiers.keys()).T\n",
    "results['score'] = SCORES\n",
    "results"
   ]
  },
  {
   "cell_type": "markdown",
   "id": "9db08dd1",
   "metadata": {},
   "source": [
    "The the `Logistic Regression` outperforms all the other models."
   ]
  },
  {
   "cell_type": "markdown",
   "id": "98fadc98-2a4a-481d-afb2-1f9eec09823f",
   "metadata": {},
   "source": [
    "# Build nested Cross Validation (nCV) pipeline"
   ]
  },
  {
   "cell_type": "markdown",
   "id": "57f18988-ae95-4e64-8be4-44d9cc8b37e7",
   "metadata": {},
   "source": [
    "For the outer loop we will use K=5 folds and for the inner loop L=3 folds."
   ]
  },
  {
   "cell_type": "code",
   "execution_count": 29,
   "id": "7baeae54-3cf4-4c3e-b83c-c2eb9ba2b552",
   "metadata": {
    "tags": []
   },
   "outputs": [
    {
     "name": "stderr",
     "output_type": "stream",
     "text": [
      "100%|█████████████████████████████████████████████| 5/5 [01:23<00:00, 16.79s/it]\n"
     ]
    }
   ],
   "source": [
    "from sklearn.model_selection import StratifiedKFold, cross_val_score\n",
    "\n",
    "cv_outer = StratifiedKFold(n_splits=5, shuffle=True, random_state=42)\n",
    "\n",
    "TEST_SCORE_NESTED = []\n",
    "MODEL = []\n",
    "\n",
    "N_TRIALS = 10\n",
    "for name, clf in tqdm(classifiers.items()):\n",
    "    for i in range(N_TRIALS):\n",
    "\n",
    "        _objective = lambda trial: objective(trial, name, clf)\n",
    "        sampler = TPESampler(seed=42) # create a seed for the sampler for reproducibility\n",
    "        study = optuna.create_study(direction=\"maximize\", \n",
    "                                    sampler=sampler)\n",
    "        study.optimize(_objective, n_trials=100)\n",
    "        model = clf.set_params(**study.best_params)\n",
    "        model.fit(X, y)\n",
    "\n",
    "        # Nested CV with parameter optimization\n",
    "        test_score = cross_val_score(model, X, y, cv=cv_outer, \n",
    "                                     scoring='matthews_corrcoef', n_jobs=2)\n",
    "\n",
    "        TEST_SCORE_NESTED.append(test_score.mean())  \n",
    "        MODEL.append(name)"
   ]
  },
  {
   "cell_type": "code",
   "execution_count": 30,
   "id": "f98a92cd-a184-40d3-8e68-6588f6fe7063",
   "metadata": {},
   "outputs": [
    {
     "data": {
      "text/plain": [
       "model\n",
       "GNB    0.686520\n",
       "LDA    0.718275\n",
       "LR     0.813933\n",
       "SVM    0.824268\n",
       "kNN    0.718186\n",
       "Name: score, dtype: float64"
      ]
     },
     "execution_count": 30,
     "metadata": {},
     "output_type": "execute_result"
    }
   ],
   "source": [
    "all_scores = pd.DataFrame()\n",
    "all_scores['model'] = MODEL\n",
    "all_scores['score'] = TEST_SCORE_NESTED\n",
    "\n",
    "result = all_scores.groupby(\"model\")[\"score\"].mean()\n",
    "result"
   ]
  },
  {
   "cell_type": "markdown",
   "id": "10bce508-3ff7-4639-97fd-36910a164aac",
   "metadata": {},
   "source": [
    "Finally, the  “winner”  classification algorithm in 10 trials of nCV is the `SVM`."
   ]
  },
  {
   "cell_type": "markdown",
   "id": "069507ff-6af9-48e9-876a-8a34715f2c04",
   "metadata": {},
   "source": [
    "## Cross-Validation using the whole dataset"
   ]
  },
  {
   "cell_type": "code",
   "execution_count": 24,
   "id": "b56b812e-14d0-44b1-914b-4f8de659c6e3",
   "metadata": {},
   "outputs": [],
   "source": [
    "def objective(trial, name, model):\n",
    "    \n",
    "    params = {\n",
    "        'C':trial.suggest_float('C', 1e-2, 10),\n",
    "        'gamma':trial.suggest_float('gamma', 1e-3, 1),\n",
    "        'kernel':trial.suggest_categorical('kernel', ['linear', 'rbf'])   \n",
    "    }\n",
    "        \n",
    "    clf = model.set_params(**params)\n",
    "    \n",
    "    cv_inner = StratifiedKFold(n_splits=5, shuffle=True, \n",
    "                               random_state=42)\n",
    "    \n",
    "    score = cross_val_score(clf, X, y, \n",
    "                            scoring='f1_macro', cv=cv_inner)\n",
    "    score = score.mean()\n",
    "    return score\n",
    "\n",
    "name = 'SVM'\n",
    "clf = SVC()\n",
    "\n",
    "_objective = lambda trial: objective(trial, name, clf)\n",
    "\n",
    "sampler = TPESampler(seed=42) # create a seed for the sampler for reproducibility\n",
    "study = optuna.create_study(direction=\"maximize\", sampler=sampler)\n",
    "study.optimize(_objective, n_trials=200)"
   ]
  },
  {
   "cell_type": "code",
   "execution_count": 25,
   "id": "34f42d87-6dbf-4328-8db5-d4a926cdfadd",
   "metadata": {},
   "outputs": [
    {
     "data": {
      "text/plain": [
       "{'C': 8.798422033472267, 'gamma': 0.05177611132861806, 'kernel': 'rbf'}"
      ]
     },
     "execution_count": 25,
     "metadata": {},
     "output_type": "execute_result"
    }
   ],
   "source": [
    "study.best_params"
   ]
  },
  {
   "cell_type": "code",
   "execution_count": 26,
   "id": "57e08de5-3fc8-495a-a441-a6e751ee9f61",
   "metadata": {},
   "outputs": [
    {
     "data": {
      "text/plain": [
       "0.9598727364589432"
      ]
     },
     "execution_count": 26,
     "metadata": {},
     "output_type": "execute_result"
    }
   ],
   "source": [
    "study.best_value"
   ]
  },
  {
   "cell_type": "code",
   "execution_count": 29,
   "id": "e259b5f0-9285-4c9a-99f5-de2d1b781fbc",
   "metadata": {},
   "outputs": [],
   "source": [
    "final_model = SVC(**study.best_params)\n",
    "final_model.fit(X, y)\n",
    "\n",
    "import pickle\n",
    "\n",
    "filename = 'final_model_optuna.pkl'\n",
    "pickle.dump(final_model, open(filename, 'wb'))\n",
    "\n",
    "# Load the model from disk\n",
    "\n",
    "loaded_model = pickle.load(open(filename, 'rb'))"
   ]
  }
 ],
 "metadata": {
  "kernelspec": {
   "display_name": "Python 3 (ipykernel)",
   "language": "python",
   "name": "python3"
  },
  "language_info": {
   "codemirror_mode": {
    "name": "ipython",
    "version": 3
   },
   "file_extension": ".py",
   "mimetype": "text/x-python",
   "name": "python",
   "nbconvert_exporter": "python",
   "pygments_lexer": "ipython3",
   "version": "3.9.10"
  }
 },
 "nbformat": 4,
 "nbformat_minor": 5
}
