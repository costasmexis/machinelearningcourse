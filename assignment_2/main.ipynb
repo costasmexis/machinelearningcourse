{
 "cells": [
  {
   "cell_type": "markdown",
   "id": "9f5ffee4-525b-48ce-9bcf-77cdac5df020",
   "metadata": {},
   "source": [
    "# Import Basic Libraries"
   ]
  },
  {
   "cell_type": "code",
   "execution_count": 1,
   "id": "1d4ec258-3286-4f20-9aa5-74ab334a292d",
   "metadata": {},
   "outputs": [],
   "source": [
    "import pandas as pd\n",
    "import numpy as np\n",
    "\n",
    "# Import libraries for ml methods\n",
    "from sklearn.linear_model import LogisticRegression\n",
    "from sklearn.naive_bayes import GaussianNB\n",
    "from sklearn.neighbors import KNeighborsClassifier\n",
    "from sklearn.discriminant_analysis import LinearDiscriminantAnalysis\n",
    "from sklearn.svm import SVC\n",
    "from sklearn.model_selection import GridSearchCV, cross_val_score\n",
    "from sklearn.metrics import make_scorer, matthews_corrcoef, balanced_accuracy_score, \\\n",
    "    f1_score, fbeta_score, recall_score, precision_score, average_precision_score, accuracy_score"
   ]
  },
  {
   "cell_type": "markdown",
   "id": "fe25fe2f-f299-415c-9a9c-8e39d5b64f16",
   "metadata": {},
   "source": [
    "# Data loading"
   ]
  },
  {
   "cell_type": "code",
   "execution_count": 2,
   "id": "0eb0e959-85df-414f-87f9-335ad6755996",
   "metadata": {},
   "outputs": [
    {
     "data": {
      "text/html": [
       "<div>\n",
       "<style scoped>\n",
       "    .dataframe tbody tr th:only-of-type {\n",
       "        vertical-align: middle;\n",
       "    }\n",
       "\n",
       "    .dataframe tbody tr th {\n",
       "        vertical-align: top;\n",
       "    }\n",
       "\n",
       "    .dataframe thead th {\n",
       "        text-align: right;\n",
       "    }\n",
       "</style>\n",
       "<table border=\"1\" class=\"dataframe\">\n",
       "  <thead>\n",
       "    <tr style=\"text-align: right;\">\n",
       "      <th></th>\n",
       "      <th>Age</th>\n",
       "      <th>Sex</th>\n",
       "      <th>ALB</th>\n",
       "      <th>ALP</th>\n",
       "      <th>ALT</th>\n",
       "      <th>AST</th>\n",
       "      <th>BIL</th>\n",
       "      <th>CHE</th>\n",
       "      <th>CHOL</th>\n",
       "      <th>CREA</th>\n",
       "      <th>GGT</th>\n",
       "      <th>PROT</th>\n",
       "      <th>label</th>\n",
       "    </tr>\n",
       "  </thead>\n",
       "  <tbody>\n",
       "    <tr>\n",
       "      <th>0</th>\n",
       "      <td>32</td>\n",
       "      <td>0</td>\n",
       "      <td>43.2</td>\n",
       "      <td>52.0</td>\n",
       "      <td>30.6</td>\n",
       "      <td>22.6</td>\n",
       "      <td>18.9</td>\n",
       "      <td>7.33</td>\n",
       "      <td>4.74</td>\n",
       "      <td>80.0</td>\n",
       "      <td>33.8</td>\n",
       "      <td>75.7</td>\n",
       "      <td>0</td>\n",
       "    </tr>\n",
       "    <tr>\n",
       "      <th>1</th>\n",
       "      <td>45</td>\n",
       "      <td>0</td>\n",
       "      <td>41.7</td>\n",
       "      <td>73.2</td>\n",
       "      <td>43.6</td>\n",
       "      <td>29.4</td>\n",
       "      <td>6.4</td>\n",
       "      <td>8.89</td>\n",
       "      <td>5.31</td>\n",
       "      <td>71.0</td>\n",
       "      <td>67.4</td>\n",
       "      <td>70.3</td>\n",
       "      <td>0</td>\n",
       "    </tr>\n",
       "    <tr>\n",
       "      <th>2</th>\n",
       "      <td>55</td>\n",
       "      <td>0</td>\n",
       "      <td>41.5</td>\n",
       "      <td>59.5</td>\n",
       "      <td>15.4</td>\n",
       "      <td>16.2</td>\n",
       "      <td>6.8</td>\n",
       "      <td>6.35</td>\n",
       "      <td>5.22</td>\n",
       "      <td>80.0</td>\n",
       "      <td>12.4</td>\n",
       "      <td>69.9</td>\n",
       "      <td>0</td>\n",
       "    </tr>\n",
       "    <tr>\n",
       "      <th>3</th>\n",
       "      <td>53</td>\n",
       "      <td>0</td>\n",
       "      <td>37.8</td>\n",
       "      <td>98.1</td>\n",
       "      <td>30.5</td>\n",
       "      <td>21.1</td>\n",
       "      <td>4.0</td>\n",
       "      <td>5.02</td>\n",
       "      <td>4.42</td>\n",
       "      <td>94.0</td>\n",
       "      <td>23.2</td>\n",
       "      <td>65.2</td>\n",
       "      <td>0</td>\n",
       "    </tr>\n",
       "    <tr>\n",
       "      <th>4</th>\n",
       "      <td>56</td>\n",
       "      <td>1</td>\n",
       "      <td>39.7</td>\n",
       "      <td>66.0</td>\n",
       "      <td>14.2</td>\n",
       "      <td>20.8</td>\n",
       "      <td>3.5</td>\n",
       "      <td>7.48</td>\n",
       "      <td>5.88</td>\n",
       "      <td>66.0</td>\n",
       "      <td>7.2</td>\n",
       "      <td>67.2</td>\n",
       "      <td>0</td>\n",
       "    </tr>\n",
       "    <tr>\n",
       "      <th>...</th>\n",
       "      <td>...</td>\n",
       "      <td>...</td>\n",
       "      <td>...</td>\n",
       "      <td>...</td>\n",
       "      <td>...</td>\n",
       "      <td>...</td>\n",
       "      <td>...</td>\n",
       "      <td>...</td>\n",
       "      <td>...</td>\n",
       "      <td>...</td>\n",
       "      <td>...</td>\n",
       "      <td>...</td>\n",
       "      <td>...</td>\n",
       "    </tr>\n",
       "    <tr>\n",
       "      <th>199</th>\n",
       "      <td>62</td>\n",
       "      <td>1</td>\n",
       "      <td>32.0</td>\n",
       "      <td>416.6</td>\n",
       "      <td>5.9</td>\n",
       "      <td>110.3</td>\n",
       "      <td>50.0</td>\n",
       "      <td>5.57</td>\n",
       "      <td>6.30</td>\n",
       "      <td>55.7</td>\n",
       "      <td>650.9</td>\n",
       "      <td>68.5</td>\n",
       "      <td>1</td>\n",
       "    </tr>\n",
       "    <tr>\n",
       "      <th>200</th>\n",
       "      <td>64</td>\n",
       "      <td>1</td>\n",
       "      <td>24.0</td>\n",
       "      <td>102.8</td>\n",
       "      <td>2.9</td>\n",
       "      <td>44.4</td>\n",
       "      <td>20.0</td>\n",
       "      <td>1.54</td>\n",
       "      <td>3.02</td>\n",
       "      <td>63.0</td>\n",
       "      <td>35.9</td>\n",
       "      <td>71.3</td>\n",
       "      <td>1</td>\n",
       "    </tr>\n",
       "    <tr>\n",
       "      <th>201</th>\n",
       "      <td>64</td>\n",
       "      <td>1</td>\n",
       "      <td>29.0</td>\n",
       "      <td>87.3</td>\n",
       "      <td>3.5</td>\n",
       "      <td>99.0</td>\n",
       "      <td>48.0</td>\n",
       "      <td>1.66</td>\n",
       "      <td>3.63</td>\n",
       "      <td>66.7</td>\n",
       "      <td>64.2</td>\n",
       "      <td>82.0</td>\n",
       "      <td>1</td>\n",
       "    </tr>\n",
       "    <tr>\n",
       "      <th>202</th>\n",
       "      <td>46</td>\n",
       "      <td>1</td>\n",
       "      <td>33.0</td>\n",
       "      <td>62.7</td>\n",
       "      <td>39.0</td>\n",
       "      <td>62.0</td>\n",
       "      <td>20.0</td>\n",
       "      <td>3.56</td>\n",
       "      <td>4.20</td>\n",
       "      <td>52.0</td>\n",
       "      <td>50.0</td>\n",
       "      <td>71.0</td>\n",
       "      <td>1</td>\n",
       "    </tr>\n",
       "    <tr>\n",
       "      <th>203</th>\n",
       "      <td>59</td>\n",
       "      <td>1</td>\n",
       "      <td>36.0</td>\n",
       "      <td>62.7</td>\n",
       "      <td>100.0</td>\n",
       "      <td>80.0</td>\n",
       "      <td>12.0</td>\n",
       "      <td>9.07</td>\n",
       "      <td>5.30</td>\n",
       "      <td>67.0</td>\n",
       "      <td>34.0</td>\n",
       "      <td>68.0</td>\n",
       "      <td>1</td>\n",
       "    </tr>\n",
       "  </tbody>\n",
       "</table>\n",
       "<p>204 rows × 13 columns</p>\n",
       "</div>"
      ],
      "text/plain": [
       "     Age  Sex   ALB    ALP    ALT    AST   BIL   CHE  CHOL  CREA    GGT  PROT  \\\n",
       "0     32    0  43.2   52.0   30.6   22.6  18.9  7.33  4.74  80.0   33.8  75.7   \n",
       "1     45    0  41.7   73.2   43.6   29.4   6.4  8.89  5.31  71.0   67.4  70.3   \n",
       "2     55    0  41.5   59.5   15.4   16.2   6.8  6.35  5.22  80.0   12.4  69.9   \n",
       "3     53    0  37.8   98.1   30.5   21.1   4.0  5.02  4.42  94.0   23.2  65.2   \n",
       "4     56    1  39.7   66.0   14.2   20.8   3.5  7.48  5.88  66.0    7.2  67.2   \n",
       "..   ...  ...   ...    ...    ...    ...   ...   ...   ...   ...    ...   ...   \n",
       "199   62    1  32.0  416.6    5.9  110.3  50.0  5.57  6.30  55.7  650.9  68.5   \n",
       "200   64    1  24.0  102.8    2.9   44.4  20.0  1.54  3.02  63.0   35.9  71.3   \n",
       "201   64    1  29.0   87.3    3.5   99.0  48.0  1.66  3.63  66.7   64.2  82.0   \n",
       "202   46    1  33.0   62.7   39.0   62.0  20.0  3.56  4.20  52.0   50.0  71.0   \n",
       "203   59    1  36.0   62.7  100.0   80.0  12.0  9.07  5.30  67.0   34.0  68.0   \n",
       "\n",
       "     label  \n",
       "0        0  \n",
       "1        0  \n",
       "2        0  \n",
       "3        0  \n",
       "4        0  \n",
       "..     ...  \n",
       "199      1  \n",
       "200      1  \n",
       "201      1  \n",
       "202      1  \n",
       "203      1  \n",
       "\n",
       "[204 rows x 13 columns]"
      ]
     },
     "execution_count": 2,
     "metadata": {},
     "output_type": "execute_result"
    }
   ],
   "source": [
    "data = pd.read_csv('Hepatitis_C.csv')\n",
    "data"
   ]
  },
  {
   "cell_type": "markdown",
   "id": "e362c2f0-3a8f-44b5-a920-321b3d855bb6",
   "metadata": {},
   "source": [
    "## Split data to X and y"
   ]
  },
  {
   "cell_type": "code",
   "execution_count": 3,
   "id": "e7cc15a4-baa5-45a0-a1c7-8099b8cf7aed",
   "metadata": {},
   "outputs": [
    {
     "name": "stdout",
     "output_type": "stream",
     "text": [
      "(204, 12) (204,)\n"
     ]
    }
   ],
   "source": [
    "X = data.drop('label', axis=1).copy()\n",
    "y = data['label'].copy()\n",
    "\n",
    "print(X.shape, y.shape)"
   ]
  },
  {
   "cell_type": "markdown",
   "id": "11427abf-0b60-49f2-8242-d5301f549513",
   "metadata": {},
   "source": [
    "# Normalize data"
   ]
  },
  {
   "cell_type": "code",
   "execution_count": 4,
   "id": "8d10929a-869a-4665-968c-d2920b218c52",
   "metadata": {},
   "outputs": [
    {
     "name": "stdout",
     "output_type": "stream",
     "text": [
      "(204, 12) (204,)\n"
     ]
    }
   ],
   "source": [
    "from sklearn.preprocessing import StandardScaler\n",
    "\n",
    "scaler = StandardScaler()\n",
    "\n",
    "X = scaler.fit_transform(X)\n",
    "\n",
    "print(X.shape, y.shape)"
   ]
  },
  {
   "cell_type": "markdown",
   "id": "743db9cc-62a4-490f-931f-e52d19bb5204",
   "metadata": {},
   "source": [
    "## Train / Test split of data"
   ]
  },
  {
   "cell_type": "code",
   "execution_count": 5,
   "id": "b515c950-34ff-4806-9af0-6412ba863511",
   "metadata": {},
   "outputs": [],
   "source": [
    "from sklearn.model_selection import train_test_split\n",
    "\n",
    "X_train, X_test, y_train, y_test = train_test_split(X, y, test_size=0.2, \\\n",
    "                                                    stratify=y, random_state=42)"
   ]
  },
  {
   "cell_type": "markdown",
   "id": "487d97d8-b90b-49f0-8ae9-eb0bc957b77c",
   "metadata": {},
   "source": [
    "### Define the ML models"
   ]
  },
  {
   "cell_type": "code",
   "execution_count": 6,
   "id": "651ca56d-e31e-4f3e-9e85-2f88f3edd032",
   "metadata": {},
   "outputs": [],
   "source": [
    "# Define classifiers\n",
    "classifiers = {\n",
    "    'LR':  LogisticRegression(),\n",
    "    'GNB': GaussianNB(),\n",
    "    'kNN': KNeighborsClassifier(),\n",
    "    'LDA': LinearDiscriminantAnalysis(),\n",
    "    'SVM': SVC()\n",
    "}"
   ]
  },
  {
   "cell_type": "markdown",
   "id": "98fadc98-2a4a-481d-afb2-1f9eec09823f",
   "metadata": {},
   "source": [
    "# Build nested Cross Validation (nCV) pipeline"
   ]
  },
  {
   "cell_type": "markdown",
   "id": "57f18988-ae95-4e64-8be4-44d9cc8b37e7",
   "metadata": {},
   "source": [
    "For the outer loop we will use K=5 folds and for the inner loop L=3 folds."
   ]
  },
  {
   "cell_type": "code",
   "execution_count": 7,
   "id": "d87764b3-5c6b-40a5-ae67-514a74dc8877",
   "metadata": {},
   "outputs": [],
   "source": [
    "from sklearn.model_selection import StratifiedKFold, cross_val_score\n",
    "\n",
    "cv_outer = StratifiedKFold(n_splits=5, shuffle=True, random_state=42)\n",
    "cv_inner = StratifiedKFold(n_splits=3, shuffle=True, random_state=42)"
   ]
  },
  {
   "cell_type": "code",
   "execution_count": 8,
   "id": "883ccaae-d0db-4040-908a-adc9aa6788af",
   "metadata": {},
   "outputs": [
    {
     "name": "stdout",
     "output_type": "stream",
     "text": [
      "The mean score using nested cross-validation is: 0.846 ± 0.146\n"
     ]
    }
   ],
   "source": [
    "# Inner cross-validation for parameter search\n",
    "param_grid = {\"C\": [0.1, 1, 10], \"gamma\": [.01, .1]}\n",
    "clf = SVC()\n",
    "\n",
    "model = GridSearchCV(\n",
    "    estimator=clf, param_grid=param_grid, \n",
    "    scoring='f1_macro', cv=cv_inner, n_jobs=-1\n",
    ")\n",
    "\n",
    "# Outer cross-validation to compute the testing score\n",
    "test_score = cross_val_score(model, X_train, y_train, scoring='matthews_corrcoef', \n",
    "                             cv=cv_outer, n_jobs=-1)\n",
    "\n",
    "print(f\"The mean score using nested cross-validation is: \"\n",
    "      f\"{test_score.mean():.3f} ± {test_score.std():.3f}\")"
   ]
  },
  {
   "cell_type": "code",
   "execution_count": 9,
   "id": "7baeae54-3cf4-4c3e-b83c-c2eb9ba2b552",
   "metadata": {},
   "outputs": [],
   "source": [
    "test_score_nested = []\n",
    "\n",
    "N_TRIALS = 10\n",
    "for i in range(N_TRIALS):\n",
    "    # For each trial, we use cross-validation splits on independently\n",
    "    # randomly shuffled data by passing distinct values to the random_state\n",
    "    # parameter.\n",
    "\n",
    "    # Non_nested parameter search and scoring\n",
    "    model = GridSearchCV(estimator=clf, param_grid=param_grid,\n",
    "                         cv=cv_inner, n_jobs=2)\n",
    "    \n",
    "    model.fit(X_train, y_train)\n",
    "\n",
    "    # Nested CV with parameter optimization\n",
    "    test_score = cross_val_score(model, X_train, y_train, cv=cv_outer, n_jobs=2)\n",
    "\n",
    "    test_score_nested.append(test_score.mean())"
   ]
  },
  {
   "cell_type": "code",
   "execution_count": 10,
   "id": "f98a92cd-a184-40d3-8e68-6588f6fe7063",
   "metadata": {},
   "outputs": [],
   "source": [
    "all_scores = pd.DataFrame(test_score_nested)"
   ]
  },
  {
   "cell_type": "code",
   "execution_count": 11,
   "id": "6f94311e-7dc8-4be3-8faa-7925ec280fdf",
   "metadata": {},
   "outputs": [
    {
     "data": {
      "text/html": [
       "<div>\n",
       "<style scoped>\n",
       "    .dataframe tbody tr th:only-of-type {\n",
       "        vertical-align: middle;\n",
       "    }\n",
       "\n",
       "    .dataframe tbody tr th {\n",
       "        vertical-align: top;\n",
       "    }\n",
       "\n",
       "    .dataframe thead th {\n",
       "        text-align: right;\n",
       "    }\n",
       "</style>\n",
       "<table border=\"1\" class=\"dataframe\">\n",
       "  <thead>\n",
       "    <tr style=\"text-align: right;\">\n",
       "      <th></th>\n",
       "      <th>0</th>\n",
       "    </tr>\n",
       "  </thead>\n",
       "  <tbody>\n",
       "    <tr>\n",
       "      <th>0</th>\n",
       "      <td>0.932008</td>\n",
       "    </tr>\n",
       "    <tr>\n",
       "      <th>1</th>\n",
       "      <td>0.932008</td>\n",
       "    </tr>\n",
       "    <tr>\n",
       "      <th>2</th>\n",
       "      <td>0.932008</td>\n",
       "    </tr>\n",
       "    <tr>\n",
       "      <th>3</th>\n",
       "      <td>0.932008</td>\n",
       "    </tr>\n",
       "    <tr>\n",
       "      <th>4</th>\n",
       "      <td>0.932008</td>\n",
       "    </tr>\n",
       "    <tr>\n",
       "      <th>5</th>\n",
       "      <td>0.932008</td>\n",
       "    </tr>\n",
       "    <tr>\n",
       "      <th>6</th>\n",
       "      <td>0.932008</td>\n",
       "    </tr>\n",
       "    <tr>\n",
       "      <th>7</th>\n",
       "      <td>0.932008</td>\n",
       "    </tr>\n",
       "    <tr>\n",
       "      <th>8</th>\n",
       "      <td>0.932008</td>\n",
       "    </tr>\n",
       "    <tr>\n",
       "      <th>9</th>\n",
       "      <td>0.932008</td>\n",
       "    </tr>\n",
       "  </tbody>\n",
       "</table>\n",
       "</div>"
      ],
      "text/plain": [
       "          0\n",
       "0  0.932008\n",
       "1  0.932008\n",
       "2  0.932008\n",
       "3  0.932008\n",
       "4  0.932008\n",
       "5  0.932008\n",
       "6  0.932008\n",
       "7  0.932008\n",
       "8  0.932008\n",
       "9  0.932008"
      ]
     },
     "execution_count": 11,
     "metadata": {},
     "output_type": "execute_result"
    }
   ],
   "source": [
    "all_scores"
   ]
  }
 ],
 "metadata": {
  "kernelspec": {
   "display_name": "Python 3 (ipykernel)",
   "language": "python",
   "name": "python3"
  },
  "language_info": {
   "codemirror_mode": {
    "name": "ipython",
    "version": 3
   },
   "file_extension": ".py",
   "mimetype": "text/x-python",
   "name": "python",
   "nbconvert_exporter": "python",
   "pygments_lexer": "ipython3",
   "version": "3.9.10"
  }
 },
 "nbformat": 4,
 "nbformat_minor": 5
}
