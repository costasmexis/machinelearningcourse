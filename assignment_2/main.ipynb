{
 "cells": [
  {
   "cell_type": "markdown",
   "id": "9f5ffee4-525b-48ce-9bcf-77cdac5df020",
   "metadata": {},
   "source": [
    "# Import Basic Libraries"
   ]
  },
  {
   "cell_type": "code",
   "execution_count": 47,
   "id": "1d4ec258-3286-4f20-9aa5-74ab334a292d",
   "metadata": {},
   "outputs": [],
   "source": [
    "import pandas as pd\n",
    "import numpy as np\n",
    "\n",
    "from tqdm import tqdm\n",
    "from matplotlib import pyplot as plt\n",
    "\n",
    "# Import libraries for ml methods\n",
    "from sklearn.model_selection import StratifiedKFold, cross_val_score, GridSearchCV, RandomizedSearchCV\n",
    "from sklearn.linear_model import LogisticRegression\n",
    "from sklearn.naive_bayes import GaussianNB\n",
    "from sklearn.neighbors import KNeighborsClassifier\n",
    "from sklearn.discriminant_analysis import LinearDiscriminantAnalysis\n",
    "from sklearn.svm import SVC\n",
    "from sklearn.metrics import matthews_corrcoef, f1_score"
   ]
  },
  {
   "cell_type": "markdown",
   "id": "fe25fe2f-f299-415c-9a9c-8e39d5b64f16",
   "metadata": {},
   "source": [
    "# Data loading"
   ]
  },
  {
   "cell_type": "code",
   "execution_count": 2,
   "id": "0eb0e959-85df-414f-87f9-335ad6755996",
   "metadata": {},
   "outputs": [
    {
     "data": {
      "text/html": [
       "<div>\n",
       "<style scoped>\n",
       "    .dataframe tbody tr th:only-of-type {\n",
       "        vertical-align: middle;\n",
       "    }\n",
       "\n",
       "    .dataframe tbody tr th {\n",
       "        vertical-align: top;\n",
       "    }\n",
       "\n",
       "    .dataframe thead th {\n",
       "        text-align: right;\n",
       "    }\n",
       "</style>\n",
       "<table border=\"1\" class=\"dataframe\">\n",
       "  <thead>\n",
       "    <tr style=\"text-align: right;\">\n",
       "      <th></th>\n",
       "      <th>Age</th>\n",
       "      <th>Sex</th>\n",
       "      <th>ALB</th>\n",
       "      <th>ALP</th>\n",
       "      <th>ALT</th>\n",
       "      <th>AST</th>\n",
       "      <th>BIL</th>\n",
       "      <th>CHE</th>\n",
       "      <th>CHOL</th>\n",
       "      <th>CREA</th>\n",
       "      <th>GGT</th>\n",
       "      <th>PROT</th>\n",
       "      <th>label</th>\n",
       "    </tr>\n",
       "  </thead>\n",
       "  <tbody>\n",
       "    <tr>\n",
       "      <th>0</th>\n",
       "      <td>32</td>\n",
       "      <td>0</td>\n",
       "      <td>43.2</td>\n",
       "      <td>52.0</td>\n",
       "      <td>30.6</td>\n",
       "      <td>22.6</td>\n",
       "      <td>18.9</td>\n",
       "      <td>7.33</td>\n",
       "      <td>4.74</td>\n",
       "      <td>80.0</td>\n",
       "      <td>33.8</td>\n",
       "      <td>75.7</td>\n",
       "      <td>0</td>\n",
       "    </tr>\n",
       "    <tr>\n",
       "      <th>1</th>\n",
       "      <td>45</td>\n",
       "      <td>0</td>\n",
       "      <td>41.7</td>\n",
       "      <td>73.2</td>\n",
       "      <td>43.6</td>\n",
       "      <td>29.4</td>\n",
       "      <td>6.4</td>\n",
       "      <td>8.89</td>\n",
       "      <td>5.31</td>\n",
       "      <td>71.0</td>\n",
       "      <td>67.4</td>\n",
       "      <td>70.3</td>\n",
       "      <td>0</td>\n",
       "    </tr>\n",
       "    <tr>\n",
       "      <th>2</th>\n",
       "      <td>55</td>\n",
       "      <td>0</td>\n",
       "      <td>41.5</td>\n",
       "      <td>59.5</td>\n",
       "      <td>15.4</td>\n",
       "      <td>16.2</td>\n",
       "      <td>6.8</td>\n",
       "      <td>6.35</td>\n",
       "      <td>5.22</td>\n",
       "      <td>80.0</td>\n",
       "      <td>12.4</td>\n",
       "      <td>69.9</td>\n",
       "      <td>0</td>\n",
       "    </tr>\n",
       "    <tr>\n",
       "      <th>3</th>\n",
       "      <td>53</td>\n",
       "      <td>0</td>\n",
       "      <td>37.8</td>\n",
       "      <td>98.1</td>\n",
       "      <td>30.5</td>\n",
       "      <td>21.1</td>\n",
       "      <td>4.0</td>\n",
       "      <td>5.02</td>\n",
       "      <td>4.42</td>\n",
       "      <td>94.0</td>\n",
       "      <td>23.2</td>\n",
       "      <td>65.2</td>\n",
       "      <td>0</td>\n",
       "    </tr>\n",
       "    <tr>\n",
       "      <th>4</th>\n",
       "      <td>56</td>\n",
       "      <td>1</td>\n",
       "      <td>39.7</td>\n",
       "      <td>66.0</td>\n",
       "      <td>14.2</td>\n",
       "      <td>20.8</td>\n",
       "      <td>3.5</td>\n",
       "      <td>7.48</td>\n",
       "      <td>5.88</td>\n",
       "      <td>66.0</td>\n",
       "      <td>7.2</td>\n",
       "      <td>67.2</td>\n",
       "      <td>0</td>\n",
       "    </tr>\n",
       "    <tr>\n",
       "      <th>...</th>\n",
       "      <td>...</td>\n",
       "      <td>...</td>\n",
       "      <td>...</td>\n",
       "      <td>...</td>\n",
       "      <td>...</td>\n",
       "      <td>...</td>\n",
       "      <td>...</td>\n",
       "      <td>...</td>\n",
       "      <td>...</td>\n",
       "      <td>...</td>\n",
       "      <td>...</td>\n",
       "      <td>...</td>\n",
       "      <td>...</td>\n",
       "    </tr>\n",
       "    <tr>\n",
       "      <th>199</th>\n",
       "      <td>62</td>\n",
       "      <td>1</td>\n",
       "      <td>32.0</td>\n",
       "      <td>416.6</td>\n",
       "      <td>5.9</td>\n",
       "      <td>110.3</td>\n",
       "      <td>50.0</td>\n",
       "      <td>5.57</td>\n",
       "      <td>6.30</td>\n",
       "      <td>55.7</td>\n",
       "      <td>650.9</td>\n",
       "      <td>68.5</td>\n",
       "      <td>1</td>\n",
       "    </tr>\n",
       "    <tr>\n",
       "      <th>200</th>\n",
       "      <td>64</td>\n",
       "      <td>1</td>\n",
       "      <td>24.0</td>\n",
       "      <td>102.8</td>\n",
       "      <td>2.9</td>\n",
       "      <td>44.4</td>\n",
       "      <td>20.0</td>\n",
       "      <td>1.54</td>\n",
       "      <td>3.02</td>\n",
       "      <td>63.0</td>\n",
       "      <td>35.9</td>\n",
       "      <td>71.3</td>\n",
       "      <td>1</td>\n",
       "    </tr>\n",
       "    <tr>\n",
       "      <th>201</th>\n",
       "      <td>64</td>\n",
       "      <td>1</td>\n",
       "      <td>29.0</td>\n",
       "      <td>87.3</td>\n",
       "      <td>3.5</td>\n",
       "      <td>99.0</td>\n",
       "      <td>48.0</td>\n",
       "      <td>1.66</td>\n",
       "      <td>3.63</td>\n",
       "      <td>66.7</td>\n",
       "      <td>64.2</td>\n",
       "      <td>82.0</td>\n",
       "      <td>1</td>\n",
       "    </tr>\n",
       "    <tr>\n",
       "      <th>202</th>\n",
       "      <td>46</td>\n",
       "      <td>1</td>\n",
       "      <td>33.0</td>\n",
       "      <td>62.7</td>\n",
       "      <td>39.0</td>\n",
       "      <td>62.0</td>\n",
       "      <td>20.0</td>\n",
       "      <td>3.56</td>\n",
       "      <td>4.20</td>\n",
       "      <td>52.0</td>\n",
       "      <td>50.0</td>\n",
       "      <td>71.0</td>\n",
       "      <td>1</td>\n",
       "    </tr>\n",
       "    <tr>\n",
       "      <th>203</th>\n",
       "      <td>59</td>\n",
       "      <td>1</td>\n",
       "      <td>36.0</td>\n",
       "      <td>62.7</td>\n",
       "      <td>100.0</td>\n",
       "      <td>80.0</td>\n",
       "      <td>12.0</td>\n",
       "      <td>9.07</td>\n",
       "      <td>5.30</td>\n",
       "      <td>67.0</td>\n",
       "      <td>34.0</td>\n",
       "      <td>68.0</td>\n",
       "      <td>1</td>\n",
       "    </tr>\n",
       "  </tbody>\n",
       "</table>\n",
       "<p>204 rows × 13 columns</p>\n",
       "</div>"
      ],
      "text/plain": [
       "     Age  Sex   ALB    ALP    ALT    AST   BIL   CHE  CHOL  CREA    GGT  PROT  \\\n",
       "0     32    0  43.2   52.0   30.6   22.6  18.9  7.33  4.74  80.0   33.8  75.7   \n",
       "1     45    0  41.7   73.2   43.6   29.4   6.4  8.89  5.31  71.0   67.4  70.3   \n",
       "2     55    0  41.5   59.5   15.4   16.2   6.8  6.35  5.22  80.0   12.4  69.9   \n",
       "3     53    0  37.8   98.1   30.5   21.1   4.0  5.02  4.42  94.0   23.2  65.2   \n",
       "4     56    1  39.7   66.0   14.2   20.8   3.5  7.48  5.88  66.0    7.2  67.2   \n",
       "..   ...  ...   ...    ...    ...    ...   ...   ...   ...   ...    ...   ...   \n",
       "199   62    1  32.0  416.6    5.9  110.3  50.0  5.57  6.30  55.7  650.9  68.5   \n",
       "200   64    1  24.0  102.8    2.9   44.4  20.0  1.54  3.02  63.0   35.9  71.3   \n",
       "201   64    1  29.0   87.3    3.5   99.0  48.0  1.66  3.63  66.7   64.2  82.0   \n",
       "202   46    1  33.0   62.7   39.0   62.0  20.0  3.56  4.20  52.0   50.0  71.0   \n",
       "203   59    1  36.0   62.7  100.0   80.0  12.0  9.07  5.30  67.0   34.0  68.0   \n",
       "\n",
       "     label  \n",
       "0        0  \n",
       "1        0  \n",
       "2        0  \n",
       "3        0  \n",
       "4        0  \n",
       "..     ...  \n",
       "199      1  \n",
       "200      1  \n",
       "201      1  \n",
       "202      1  \n",
       "203      1  \n",
       "\n",
       "[204 rows x 13 columns]"
      ]
     },
     "execution_count": 2,
     "metadata": {},
     "output_type": "execute_result"
    }
   ],
   "source": [
    "data = pd.read_csv('Hepatitis_C.csv')\n",
    "data"
   ]
  },
  {
   "cell_type": "code",
   "execution_count": 3,
   "id": "832a58b8",
   "metadata": {},
   "outputs": [
    {
     "data": {
      "text/plain": [
       "Age        int64\n",
       "Sex        int64\n",
       "ALB      float64\n",
       "ALP      float64\n",
       "ALT      float64\n",
       "AST      float64\n",
       "BIL      float64\n",
       "CHE      float64\n",
       "CHOL     float64\n",
       "CREA     float64\n",
       "GGT      float64\n",
       "PROT     float64\n",
       "label      int64\n",
       "dtype: object"
      ]
     },
     "execution_count": 3,
     "metadata": {},
     "output_type": "execute_result"
    }
   ],
   "source": [
    "data.dtypes"
   ]
  },
  {
   "cell_type": "markdown",
   "id": "ff73189e",
   "metadata": {},
   "source": [
    "### Missing data "
   ]
  },
  {
   "cell_type": "code",
   "execution_count": 4,
   "id": "49428a1b",
   "metadata": {},
   "outputs": [
    {
     "data": {
      "text/plain": [
       "Age      0\n",
       "Sex      0\n",
       "ALB      0\n",
       "ALP      0\n",
       "ALT      0\n",
       "AST      0\n",
       "BIL      0\n",
       "CHE      0\n",
       "CHOL     0\n",
       "CREA     0\n",
       "GGT      0\n",
       "PROT     0\n",
       "label    0\n",
       "dtype: int64"
      ]
     },
     "execution_count": 4,
     "metadata": {},
     "output_type": "execute_result"
    }
   ],
   "source": [
    "data.isnull().sum()"
   ]
  },
  {
   "cell_type": "markdown",
   "id": "e362c2f0-3a8f-44b5-a920-321b3d855bb6",
   "metadata": {},
   "source": [
    "## Split data to X and y"
   ]
  },
  {
   "cell_type": "code",
   "execution_count": 8,
   "id": "e7cc15a4-baa5-45a0-a1c7-8099b8cf7aed",
   "metadata": {},
   "outputs": [
    {
     "name": "stdout",
     "output_type": "stream",
     "text": [
      "(204, 12) (204,)\n"
     ]
    }
   ],
   "source": [
    "X = data.drop('label', axis=1).copy()\n",
    "y = data['label'].copy()\n",
    "\n",
    "print(X.shape, y.shape)"
   ]
  },
  {
   "cell_type": "markdown",
   "id": "b9b52743",
   "metadata": {},
   "source": [
    "## Imbalanced Dataset"
   ]
  },
  {
   "cell_type": "code",
   "execution_count": 12,
   "id": "b9749a00",
   "metadata": {},
   "outputs": [
    {
     "data": {
      "image/png": "[encoded data removed]",
      "text/plain": [
       "<Figure size 640x480 with 1 Axes>"
      ]
     },
     "metadata": {},
     "output_type": "display_data"
    }
   ],
   "source": [
    "# Count classes and plot\n",
    "target_count = y.value_counts()\n",
    "ax = target_count.plot(kind='bar', title='Class Distribution', color=['#1f77b4','#ff7f0e'])\n",
    "ax.set_xlabel('Class')\n",
    "ax.set_ylabel('Count')\n",
    "ax.spines['right'].set_visible(False)\n",
    "ax.spines['top'].set_visible(False)\n",
    "plt.show()"
   ]
  },
  {
   "cell_type": "code",
   "execution_count": 14,
   "id": "a8454e2c",
   "metadata": {},
   "outputs": [
    {
     "data": {
      "text/plain": [
       "0    0.67\n",
       "1    0.33\n",
       "Name: label, dtype: float64"
      ]
     },
     "execution_count": 14,
     "metadata": {},
     "output_type": "execute_result"
    }
   ],
   "source": [
    "y.value_counts(normalize=True).round(2)"
   ]
  },
  {
   "cell_type": "markdown",
   "id": "0079a659",
   "metadata": {},
   "source": [
    "# Normalize data"
   ]
  },
  {
   "cell_type": "markdown",
   "id": "d11c5d73",
   "metadata": {},
   "source": [
    "Normalize only the numerical features"
   ]
  },
  {
   "cell_type": "code",
   "execution_count": 15,
   "id": "2ba9107b",
   "metadata": {},
   "outputs": [
    {
     "name": "stdout",
     "output_type": "stream",
     "text": [
      "(204, 12) (204,)\n"
     ]
    }
   ],
   "source": [
    "cat_features = ['Sex']\n",
    "\n",
    "col_to_scale = X.drop(cat_features, axis=1).columns.values\n",
    "\n",
    "from sklearn.preprocessing import StandardScaler\n",
    "\n",
    "scaler = StandardScaler()\n",
    "\n",
    "X[col_to_scale] = scaler.fit_transform(X[col_to_scale])\n",
    "\n",
    "print(X.shape, y.shape)"
   ]
  },
  {
   "cell_type": "markdown",
   "id": "fd12b320",
   "metadata": {},
   "source": [
    "### Define a dict of ML models to be studied"
   ]
  },
  {
   "cell_type": "code",
   "execution_count": 16,
   "id": "85ee9a0c",
   "metadata": {},
   "outputs": [],
   "source": [
    "# Define classifiers\n",
    "classifiers = {\n",
    "    'LR':  LogisticRegression(max_iter=10000),\n",
    "    'GNB': GaussianNB(),\n",
    "    'kNN': KNeighborsClassifier(),\n",
    "    'LDA': LinearDiscriminantAnalysis(),\n",
    "    'SVM': SVC()\n",
    "}"
   ]
  },
  {
   "cell_type": "markdown",
   "id": "412b32ba",
   "metadata": {},
   "source": [
    "### Define a dict of parameter grids"
   ]
  },
  {
   "cell_type": "code",
   "execution_count": 17,
   "id": "03e98c2f",
   "metadata": {},
   "outputs": [],
   "source": [
    "# Define hyperparameter grid for each model\n",
    "LR_param_grid = {\n",
    "    'C': [0.001, 0.01, 0.1, 1, 10, 100],\n",
    "}\n",
    "\n",
    "GNB_param_grid = {\n",
    "    'var_smoothing': np.logspace(-13, -3, 100)\n",
    "}\n",
    "\n",
    "kNN_param_grid = {\n",
    "    'n_neighbors': np.arange(1, 20),\n",
    "    'weights': ['uniform', 'distance']\n",
    "}\n",
    "\n",
    "LDA_param_grid = {\n",
    "    'solver': ['svd', 'lsqr', 'eigen'],\n",
    "}\n",
    "\n",
    "SVM_param_grid = {\n",
    "    'C': [0.001, 0.01, 0.1, 1, 10, 100, 1000],\n",
    "    'gamma': [0.0001, 0.001, 0.01, 0.1, 1, 10, 100],\n",
    "    'kernel': ['linear', 'rbf', 'poly', 'sigmoid']\n",
    "}\n",
    "\n",
    "# Define the parameter grids\n",
    "param_grids = {\n",
    "    'LR': LR_param_grid,\n",
    "    'GNB': GNB_param_grid,\n",
    "    'kNN': kNN_param_grid,\n",
    "    'LDA': LDA_param_grid,\n",
    "    'SVM': SVM_param_grid\n",
    "}"
   ]
  },
  {
   "cell_type": "markdown",
   "id": "9dd16919",
   "metadata": {},
   "source": [
    "## Nested CV function"
   ]
  },
  {
   "cell_type": "code",
   "execution_count": 52,
   "id": "0328ba88",
   "metadata": {},
   "outputs": [],
   "source": [
    "'''\n",
    "    Define a function to perform the nested Cross Validation\n",
    "'''\n",
    "def nestedCV(model, p_grid, X, y):\n",
    "    NUM_TRIALS = 10\n",
    "\n",
    "    # Arrays to store scores\n",
    "    nested_scores = []\n",
    "\n",
    "    # Loop for each trial\n",
    "    for i in tqdm(range(NUM_TRIALS)):\n",
    "        \n",
    "        inner_cv = StratifiedKFold(n_splits=3, shuffle=True, random_state=i)\n",
    "        outer_cv = StratifiedKFold(n_splits=5, shuffle=True, random_state=i)\n",
    "\n",
    "        # Nested CV with parameter optimization\n",
    "        clf = GridSearchCV(estimator=model, scoring='f1_macro', param_grid=p_grid, \n",
    "                                 cv=inner_cv)\n",
    "        \n",
    "        nested_score = cross_val_score(clf, X=X, y=y, \n",
    "                                       scoring='matthews_corrcoef', cv=outer_cv)\n",
    "        \n",
    "        nested_scores.append(list(nested_score))\n",
    "    return clf, nested_scores"
   ]
  },
  {
   "cell_type": "code",
   "execution_count": 53,
   "id": "16a57378",
   "metadata": {
    "scrolled": true
   },
   "outputs": [
    {
     "name": "stderr",
     "output_type": "stream",
     "text": [
      "100%|██████████████████████████████████████████████████████████████████████████████████| 10/10 [00:06<00:00,  1.60it/s]\n",
      "100%|██████████████████████████████████████████████████████████████████████████████████| 10/10 [00:59<00:00,  5.91s/it]\n",
      "100%|██████████████████████████████████████████████████████████████████████████████████| 10/10 [00:24<00:00,  2.46s/it]\n",
      "100%|██████████████████████████████████████████████████████████████████████████████████| 10/10 [00:02<00:00,  4.97it/s]\n",
      "100%|██████████████████████████████████████████████████████████████████████████████████| 10/10 [02:21<00:00, 14.14s/it]\n"
     ]
    }
   ],
   "source": [
    "nested_LG, nested_scores_LG = nestedCV(classifiers['LR'], param_grids['LR'], X, y)\n",
    "\n",
    "nested_GNB, nested_scores_GNB = nestedCV(classifiers['GNB'], param_grids['GNB'], X, y)\n",
    "\n",
    "nested_kNN, nested_scores_kNN = nestedCV(classifiers['kNN'], param_grids['kNN'], X, y)\n",
    "\n",
    "nested_LDA, nested_scores_LDA = nestedCV(classifiers['LDA'], param_grids['LDA'], X, y)\n",
    "\n",
    "nested_SVM, nested_scores_SVM = nestedCV(classifiers['SVM'], param_grids['SVM'], X, y)"
   ]
  },
  {
   "cell_type": "code",
   "execution_count": 69,
   "id": "c001cbd6",
   "metadata": {},
   "outputs": [],
   "source": [
    "nested_scores_LG = [item for sublist in nested_scores_LG for item in sublist]\n",
    "nested_scores_GNB = [item for sublist in nested_scores_GNB for item in sublist]\n",
    "nested_scores_kNN = [item for sublist in nested_scores_kNN for item in sublist]\n",
    "nested_scores_LDA = [item for sublist in nested_scores_LDA for item in sublist]\n",
    "nested_scores_SVM = [item for sublist in nested_scores_SVM for item in sublist]"
   ]
  },
  {
   "cell_type": "code",
   "execution_count": 70,
   "id": "bcaadaa3",
   "metadata": {},
   "outputs": [
    {
     "data": {
      "image/png": "[encoded data removed]",
      "text/plain": [
       "<Figure size 640x480 with 1 Axes>"
      ]
     },
     "metadata": {},
     "output_type": "display_data"
    }
   ],
   "source": [
    "# create box plot\n",
    "fig, ax = plt.subplots()\n",
    "positions = [1, 2, 3, 4, 5] # x-axis positions for each box plot\n",
    "ax.boxplot([nested_scores_LG, nested_scores_GNB, nested_scores_kNN, nested_scores_LDA, nested_scores_SVM], positions=positions, widths=0.1)\n",
    "\n",
    "# add title and labels\n",
    "ax.set_title('Model Comparison', fontweight='bold')\n",
    "ax.set_ylabel('MCC')\n",
    "ax.set_xticks(positions)\n",
    "ax.set_xticklabels(['LR', 'GNB', 'kNN', 'LDA', 'SVM'])\n",
    "\n",
    "# show plot\n",
    "plt.show()"
   ]
  },
  {
   "cell_type": "code",
   "execution_count": 78,
   "id": "3ce5d15e",
   "metadata": {},
   "outputs": [
    {
     "name": "stdout",
     "output_type": "stream",
     "text": [
      "Mean score of 50 nCV outer loop folds for LR: 0.8200510363160523\n",
      "Mean score of 50 nCV outer loop folds for GNB: 0.7232215582501884\n",
      "Mean score of 50 nCV outer loop folds for kNN: 0.710184679335431\n",
      "Mean score of 50 nCV outer loop folds for LDA: 0.7245147425883834\n",
      "Mean score of 50 nCV outer loop folds for SVM: 0.8442386626049679\n"
     ]
    }
   ],
   "source": [
    "print('Mean score of 50 nCV outer loop folds for LR:'  ,sum(nested_scores_LG) / len(nested_scores_LG))\n",
    "print('Mean score of 50 nCV outer loop folds for GNB:'  ,sum(nested_scores_GNB) / len(nested_scores_GNB))\n",
    "print('Mean score of 50 nCV outer loop folds for kNN:'  ,sum(nested_scores_kNN) / len(nested_scores_kNN))\n",
    "print('Mean score of 50 nCV outer loop folds for LDA:'  ,sum(nested_scores_LDA) / len(nested_scores_LDA))\n",
    "print('Mean score of 50 nCV outer loop folds for SVM:'  ,sum(nested_scores_SVM) / len(nested_scores_SVM))"
   ]
  },
  {
   "cell_type": "markdown",
   "id": "10bce508-3ff7-4639-97fd-36910a164aac",
   "metadata": {},
   "source": [
    "Finally, the  “winner”  classification algorithm in 10 trials of nCV is the `SVM`."
   ]
  },
  {
   "cell_type": "markdown",
   "id": "069507ff-6af9-48e9-876a-8a34715f2c04",
   "metadata": {},
   "source": [
    "## Cross-Validation using the whole dataset"
   ]
  },
  {
   "cell_type": "code",
   "execution_count": 70,
   "id": "a346f84f",
   "metadata": {},
   "outputs": [
    {
     "name": "stdout",
     "output_type": "stream",
     "text": [
      "Fitting 5 folds for each of 2000 candidates, totalling 10000 fits\n",
      "Best parameters:  {'kernel': 'linear', 'gamma': 6.650289333776228, 'C': 0.4013603603603604}\n",
      "Best score:  0.867350780500612\n"
     ]
    }
   ],
   "source": [
    "model = SVC()\n",
    "SVM_param_grid = {\n",
    "    'C': np.linspace(0.001, 10, 1000),\n",
    "    'gamma': np.logspace(0.0001, 1, 1000),\n",
    "    'kernel': ['linear', 'rbf']\n",
    "}\n",
    "\n",
    "# Perform grid search to find the best hyperparameters\n",
    "cv = StratifiedKFold(n_splits=5, shuffle=True, random_state=42)\n",
    "search = RandomizedSearchCV(model, param_distributions=SVM_param_grid,\n",
    "                            scoring='matthews_corrcoef', n_iter=2000, cv=cv, verbose=1)\n",
    "search.fit(X, y)\n",
    "\n",
    "# Print the best hyperparameters and mean cross-validation score\n",
    "print(\"Best parameters: \", search.best_params_)\n",
    "print(\"Best score: \", search.best_score_)"
   ]
  },
  {
   "cell_type": "code",
   "execution_count": 71,
   "id": "8feed675-97cd-4953-a945-6c3d17742558",
   "metadata": {},
   "outputs": [],
   "source": [
    "# Save final model\n",
    "final_model = search.best_estimator_\n",
    "\n",
    "import pickle\n",
    "\n",
    "filename = 'final_model.pkl'\n",
    "pickle.dump(final_model, open(filename, 'wb'))\n",
    "\n",
    "# Load the model from disk\n",
    "\n",
    "loaded_model = pickle.load(open(filename, 'rb'))"
   ]
  }
 ],
 "metadata": {
  "kernelspec": {
   "display_name": "Python 3 (ipykernel)",
   "language": "python",
   "name": "python3"
  },
  "language_info": {
   "codemirror_mode": {
    "name": "ipython",
    "version": 3
   },
   "file_extension": ".py",
   "mimetype": "text/x-python",
   "name": "python",
   "nbconvert_exporter": "python",
   "pygments_lexer": "ipython3",
   "version": "3.11.2"
  }
 },
 "nbformat": 4,
 "nbformat_minor": 5
}
